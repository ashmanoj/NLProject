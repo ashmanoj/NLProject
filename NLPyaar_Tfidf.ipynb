{
  "cells": [
    {
      "cell_type": "code",
      "execution_count": null,
      "metadata": {
        "colab": {
          "base_uri": "https://localhost:8080/"
        },
        "id": "NsLEh3DhAlVB",
        "outputId": "efa0cde0-2ea1-4c8b-cfad-17bc09acae85"
      },
      "outputs": [
        {
          "output_type": "stream",
          "name": "stderr",
          "text": [
            "[nltk_data] Downloading package stopwords to /root/nltk_data...\n",
            "[nltk_data]   Unzipping corpora/stopwords.zip.\n"
          ]
        }
      ],
      "source": [
        "import re\n",
        "import spacy\n",
        "from nltk.corpus import stopwords\n",
        "import nltk\n",
        "nltk.download('stopwords')\n",
        "from sklearn.feature_extraction.text import CountVectorizer\n",
        "import numpy as np\n",
        "from gensim.models import KeyedVectors\n",
        "import gensim.downloader as api\n",
        "from nltk.stem import WordNetLemmatizer\n",
        "import numpy as np\n",
        "from sklearn.feature_extraction.text import TfidfVectorizer\n",
        "import pandas as pd\n",
        "## 1. Logistic Regression\n",
        "from sklearn.linear_model import LogisticRegression\n",
        "## 2. Support Vector Machine\n",
        "from sklearn.svm import SVC\n",
        "## 3. Feed forward neural network or multi-layered perceptron\n",
        "from sklearn.neural_network import MLPClassifier\n",
        "from sklearn.feature_extraction.text import TfidfVectorizer\n",
        "# compute \"goodness\" of classification through accuracy\n",
        "from sklearn.metrics import accuracy_score\n",
        "from scipy.spatial.distance import cosine\n",
        "from sklearn.metrics.pairwise import cosine_similarity"
      ]
    },
    {
      "cell_type": "code",
      "execution_count": null,
      "metadata": {
        "colab": {
          "base_uri": "https://localhost:8080/"
        },
        "id": "OfCdTKzpCLvh",
        "outputId": "6ea9c4ae-a726-4f2b-d87b-79cffb657383"
      },
      "outputs": [
        {
          "output_type": "stream",
          "name": "stdout",
          "text": [
            "{'fruitful', 'mind-blowing', 'gratified', 'effectual', 'extraordinary', 'visionary', 'lionhearted', 'uphold', 'supurb', 'simplify', 'openness', 'triumphant', 'expansive', 'solicitous', 'prowess', 'chivalrous', 'unconditional', 'thrifty', 'self-satisfaction', 'razor-sharp', 'enticed', 'wonderously', 'excitingly', 'ingeniously', 'versatile', 'dumbfounded', 'gracious', 'gooood', 'innovative', 'effusiveness', 'passionately', 'woo', 'portable', 'prominent', 'dashing', 'light-hearted', 'phenomenal', 'talents', 'graceful', 'enrapture', 'exceptional', 'comely', 'excitement', 'merciful', 'galore', 'relaxed', 'refine', 'dauntless', 'daringly', 'fortune', 'exquisitely', 'cleanliness', 'humane', 'enjoyably', 'proper', 'pamperedness', 'enthusiastically', 'fabulously', 'pleases', 'impassioned', 'sparkling', 'unforgettable', 'speedy', 'empowerment', 'golden', 'fervidly', 'meticulously', 'interests', 'effectiveness', 'felicitous', 'assuredly', 'sensational', 'perfectly', 'well-informed', 'tempt', 'mesmerizingly', 'fast-growing', 'profound', 'elegant', 'trumpet', 'energize', 'prudently', 'inspiration', 'prosperity', 'well-received', 'cheapest', 'pleasantly', 'reward', 'speedily', 'proving', 'succeeding', 'amiable', 'detachable', 'enrichment', 'outperforming', 'effective', 'fancy', 'peach', 'terrific', 'steadiness', 'gems', 'illuminati', 'versatility', 'intelligible', 'outshone', 'guarantee', 'cashback', 'ennoble', 'spellbindingly', 'ingenious', 'extoll', 'fearless', 'geekier', 'winner', 'liberation', 'piety', 'efficient', 'examplar', 'extol', 'outperforms', 'maneuverable', 'rock-star', 'reform', 'outstrip', 'glow', 'insightfully', 'peppy', 'bloom', 'exaltation', 'feisty', 'affordable', 'poised', 'productive', 'exceedingly', 'idolized', 'veritable', 'enliven', 'prosperous', 'sumptuous', 'admire', 'levity', 'dazzling', 'cleared', 'judicious', 'embolden', 'remission', 'remarkably', 'wholesome', 'statuesque', 'integrated', 'gained', 'supporter', 'painlessly', 'fulfillment', 'elate', 'cuteness', 'courageously', 'supremacy', 'harmoniously', 'saint', 'exceeding', 'clearly', 'staunch', 'problem-solver', 'readable', 'persevere', 'simplifies', 'glistening', 'foresight', 'stylish', 'passion', 'illuminating', 'applaud', 'ideally', 'pretty', 'renown', 'miraculous', 'recommended', 'reputation', 'low-priced', 'endear', 'rich', 'slammin', 'gentlest', 'complementary', 'effortlessly', 'enhanced', 'adequate', 'enterprising', 'keenly', 'continuity', 'gratifying', 'politeness', 'well-behaved', 'aspiration', 'top', 'impeccable', 'eulogize', 'authentic', 'radiant', 'exemplary', 'enjoyment', 'eased', 'surpass', 'trophy', 'flattering', 'congratulations', 'desirous', 'excite', 'impressively', 'rewarding', 'worthiness', 'softer', 'steady', 'happily', 'meticulous', 'grand', 'realistic', 'amazing', 'alluring', 'marvelousness', 'enchanting', 'pamperedly', 'civilize', 'awestruck', 'sweeten', 'high-quality', 'appreciative', 'opulent', 'cherub', 'handier', 'promptly', 'assurance', 'proactive', 'richness', 'desiring', 'wieldy', 'distinction', 'large-capacity', 'tenaciously', 'subsidized', 'deservedly', 'altruistic', 'dependable', 'soothingly', 'brisk', 'intimacy', 'adulatory', 'homage', 'transparent', 'delectable', 'profusion', 'defeat', 'bargain', 'cost-effective', 'triumph', 'delightfulness', 'afford', 'readily', 'sufficiently', 'super', 'convenience', 'flatteringly', 'empower', 'enthralled', 'supremely', 'treasure', 'properly', 'sharp', 'bolster', 'encouraging', 'understandable', 'amiabily', 'neat', 'gratify', 'concise', 'convienient', 'aspire', 'excel', 'renewed', 'temptingly', 'playful', 'fascination', 'well', 'swank', 'jolly', 'appropriate', 'formidable', 'effusively', 'flourishing', 'excited', 'ecstatic', 'talent', 'fantastic', 'joyfully', 'upliftingly', 'cleaner', 'ecstatically', 'honest', 'deference', 'gladly', 'satisfactory', 'fine-looking', 'savvy', 'stylishly', 'wow', 'pamper', 'sincere', 'better-known', 'spacious', 'promoter', 'cohesive', 'unselfish', 'talented', 'wealthy', 'impeccably', 'wowed', 'lifesaver', 'attraction', 'authoritative', 'convenient', 'propitiously', 'astounded', 'excellent', 'love', 'bright', 'appreciable', 'overtook', 'fashionably', 'fiery', 'grandeur', 'rejoice', 'miraculousness', 'stabilize', 'perseverance', 'adjustable', 'amusingly', 'conveniently', 'goodness', 'righteousness', 'world-famous', 'supreme', 'compassionate', 'preferable', 'unwavering', 'staunchness', 'roomier', 'bonuses', 'sweet', 'fastest-growing', 'inpressed', 'liberty', 'supports', 'positive', 'entranced', 'dexterously', 'refreshing', 'spellbinding', 'benifits', 'wonder', 'glimmering', 'providence', 'glitter', 'undamaged', 'encouragement', 'convient', 'swankier', 'affectation', 'eagerness', 'merry', 'reformed', 'fearlessly', 'accolade', 'nicely', 'accessible', 'poise', 'majestic', 'winners', 'intimate', 'sharpest', 'feature-rich', 'hardy', 'reliable', 'nourishment', 'apotheosis', 'dazzle', 'honor', 'polished', 'blissfully', 'compassion', 'solace', 'unbiased', 'unrestricted', 'civility', 'brand-new', 'prudent', 'helping', 'wisdom', 'stimulative', 'positives', 'non-violence', 'originality', 'relief', 'appeal', 'effortless', 'easiest', 'intelligent', 'fun', 'stability', 'overtakes', 'healthy', 'exultingly', 'qualified', 'snazzy', 'warmth', 'merriness', 'commitment', 'breathtakingly', 'best', 'fair', 'warmer', 'successes', 'regard', 'triumphantly', 'hearten', 'user-replaceable', 'expeditiously', 'prolific', 'awe', 'immaculate', 'classic', 'overtake', 'accomplishments', 'securely', 'kudos', 'reliably', 'indulgence', 'chaste', 'salute', 'striving', 'blithe', 'sweetheart', 'humourous', 'paradise', 'stable', 'luckier', 'irreproachable', 'well-established', 'enhances', 'suavely', 'admiration', 'sturdy', 'energy-saving', 'fervent', 'invulnerable', 'steadfastness', 'impress', 'beloved', 'delightfully', 'secure', 'fecilitous', 'remarkable', 'promised', 'peps', 'uplift', 'venerate', 'benefit', 'variety', 'valor', 'flawless', 'intuitive', 'hale', 'strong', 'generosity', 'prettily', 'marveled', 'hug', 'enticingly', 'dote', 'prodigiously', 'luxuriate', 'astound', 'excelled', 'captivating', 'consistent', 'clean', 'upgradeable', 'covenant', 'innovation', 'consistently', 'angel', 'low-cost', 'supportive', 'jovial', 'endorsement', 'non-violent', 'lavish', 'reverence', 'favorited', 'amenable', 'satisfies', 'agile', 'articulate', 'righteous', 'smooth', 'traction', 'charm', 'courageousness', 'monumental', 'promising', 'prodigious', 'stirringly', 'blissful', 'well-managed', 'euphoric', 'lighter', 'overjoyed', 'pepped', 'improved', 'stimulate', 'outstandingly', 'reasoned', 'pleasant', 'eloquently', 'cushy', 'outsmart', 'supple', 'devout', 'won', 'aver', 'well-made', 'festive', 'reverently', 'happiness', 'achievable', 'wins', 'attractively', 'endorsed', 'victorious', 'relent', 'lovably', 'sensations', 'endorses', 'prefer', 'tranquility', 'exuberance', 'revitalize', 'patience', 'comfortably', 'distinctive', 'conciliatory', 'balanced', 'lucky', 'fortuitous', 'enviably', 'cleverly', 'sensation', 'affluence', 'euphorically', 'feat', 'exceed', 'fragrant', 'brighten', 'glorious', 'toughest', 'wowing', 'reconcile', 'savior', 'eloquence', 'ecstasy', 'gallant', 'sweeping', 'exhilaration', 'skilled', 'warmly', 'serene', 'delicious', 'enviousness', 'a+', 'brightest', 'breathtaking', 'worthwhile', 'beautifullly', 'preeminent', 'capability', 'celebrate', 'restructuring', 'fabulous', 'brave', 'darling', 'slick', 'preferes', 'ecenomical', 'outwit', 'wows', 'radiance', 'delighted', 'fave', 'smoothes', 'trustingly', 'solidarity', 'ergonomical', 'purposeful', 'reasonably', 'selective', 'fascinate', 'tough', 'sensitive', 'dummy-proof', 'famously', 'insightful', 'novelty', 'hotcake', 'pleasurably', 'knowledgeable', 'gratefully', 'champion', 'masterfully', 'acclaim', 'fans', 'beautifully', 'individualized', 'stately', 'plentiful', 'succeeded', 'splendid', 'tempting', 'ftw', 'optimistic', 'noiseless', 'renowned', 'handsomely', 'cost-saving', 'intrigue', 'richer', 'elan', 'smart', 'amicability', 'eventful', 'diligently', 'entrancing', 'accomodative', 'effusion', 'excitedness', 'seamless', 'scenic', 'swankiest', 'unbeatable', 'exceeds', 'rejoicing', 'credence', 'calm', 'resolute', 'attune', 'ardently', 'affinity', 'enlighten', 'peaceable', 'superiority', 'sturdier', 'positively', 'solicitously', 'gallantly', 'bless', 'joyously', 'exalt', 'whoooa', 'tolerable', 'amuse', 'staunchly', 'ample', 'envious', 'refinement', 'impartially', 'simplest', 'eye-catch', 'generously', 'conscientious', 'imaculate', 'titillate', 'infallibly', 'charitable', 'gush', 'morality', 'facilitate', 'heroically', 'appreciatively', 'prize', 'outdo', 'stronger', 'well-bred', 'unabashedly', 'gleeful', 'skillful', 'blessing', 'hands-down', 'powerful', 'creative', 'tenacity', 'unaffected', 'assurances', 'good', 'amaze', 'astoundingly', 'hardier', 'earnest', 'well-run', 'infallible', 'enviously', 'dominate', 'lustrous', 'loved', 'monumentally', 'faithfulness', 'felicity', 'peerless', 'revere', 'hopeful', 'defender', 'fancier', 'well-mannered', 'blossom', 'best-performing', 'well-being', 'inspire', 'tantalizing', 'exemplar', 'enchant', 'proves', 'amiability', 'smartly', 'rapport', 'boundless', 'romantic', 'elite', 'breathlessness', 'cherish', 'brotherly', 'better-than-expected', 'enhancement', 'excites', 'gifted', 'friendly', 'top-quality', 'affably', 'magnanimously', 'beautiful', 'shimmering', 'advantageous', 'nifty', 'lovable', 'pros', 'felicitate', 'recomend', 'meritorious', 'sensibly', 'mastery', 'smilingly', 'hottest', 'astonishingly', 'youthful', 'gaiety', 'cherished', 'better', 'abundant', 'resplendent', 'faithfully', 'hallmarks', 'righten', 'undisputable', 'matchless', 'sociable', 'loving', 'likes', 'pep', 'upbeat', 'complemented', 'well-connected', 'hooray', 'cute', 'avidly', 'enchantingly', 'adulate', 'favorite', 'enraptured', 'priceless', 'carefree', 'affability', 'afordable', 'desirable', 'rightfully', 'geeky', 'breakthroughs', 'healthful', 'frugal', 'interesting', 'privilege', 'eagerly', 'intelligence', 'exceeded', 'rectification', 'saver', 'superb', 'affectionate', 'topnotch', 'affection', 'charmingly', 'virtuous', 'improves', 'breakthrough', 'conciliate', 'thrillingly', 'intricate', 'noble', 'pleasurable', 'sagacity', 'rapid', 'abounds', 'self-determination', 'pardon', 'fast-paced', 'impartiality', 'accolades', 'stimulates', 'amply', 'revolutionizes', 'saintly', 'chivalry', 'rockstars', 'convience', 'picturesque', 'smarter', 'jubilate', 'panoramic', 'warmhearted', 'prefered', 'satisfying', 'contentment', 'gloriously', 'whooa', 'assure', 'palatial', 'congratulation', 'humorously', 'improve', 'ingenuous', 'fashionable', 'spectacular', 'genius', 'consummate', 'enjoying', 'grace', 'unquestionable', 'divinely', 'worked', 'exuberant', 'incredible', 'restructured', 'upliftment', 'optimal', 'fortuitously', 'tenderly', 'redeem', 'magic', 'incredibly', 'favored', 'cozy', 'pleasingly', 'kindly', 'dominated', 'freedom', 'charming', 'tremendously', 'reconciliation', 'grin', 'jubilant', 'godlike', 'flutter', 'leading', 'captivate', 'luckiest', 'awards', 'protect', 'heal', 'revolutionized', 'accomplishment', 'obtainable', 'low-price', 'well-educated', 'smile', 'useable', 'complement', 'inestimable', 'right', 'thrive', 'thrilled', 'triumphal', 'trust', 'impressive', 'gracefully', 'pleasing', 'glimmer', 'famous', 'toll-free', 'cajole', 'helped', 'quicker', 'bonny', 'enviable', 'heroize', 'eminent', 'impressed', 'reputable', 'contrasty', 'gold', 'rapture', 'cohere', 'genuine', 'faultless', 'wonderfully', 'lover', 'winning', 'appreciates', 'first-rate', 'flexibility', 'kindness', 'spiritual', 'well-backlit', 'joy', 'merrily', 'well-known', 'impresses', 'aspirations', 'soulful', 'guiltless', 'glitz', 'peacefully', 'stellar', 'truthfulness', 'brilliance', 'savings', 'extraordinarily', 'fascinatingly', 'assuring', 'coherent', 'lucrative', 'trump', 'achievement', 'heaven', 'harmless', 'fervor', 'flexible', 'clears', 'rightness', 'hail', 'educated', 'smartest', 'liberate', 'success', 'qualify', 'thoughtfulness', 'booming', 'self-respect', 'proficiently', 'mesmerizing', 'proven', 'cooperative', 'personages', 'commodious', 'worth', 'jaw-dropping', 'progressive', 'unfazed', 'cleanly', 'successful', 'heartfelt', 'dexterous', 'halcyon', 'preferring', 'reachable', 'thumbs-up', 'fame', 'suitable', 'passionate', 'overtaking', 'decent', 'accessable', 'substantive', 'jubiliant', 'admirer', 'equitable', 'err-free', 'mightily', 'goodwill', 'suffice', 'dead-on', 'audible', 'clever', 'confidence', 'advantageously', 'cleanest', 'lyrical', 'beneficiary', 'blockbuster', 'navigable', 'idealize', 'roomy', 'seasoned', 'efficiently', 'harmony', 'redeeming', 'support', 'gem', 'masterful', 'foolproof', 'prominence', 'pleasure', 'bliss', 'engrossing', 'marvels', 'excelent', 'awesome', 'brilliantly', 'obsessions', 'refresh', 'easygoing', 'personalized', 'undisputed', 'auspicious', 'futuristic', 'magnificently', 'subsidize', 'immense', 'freshest', 'liked', 'glowingly', 'unmatched', 'respectful', 'streamlined', 'fancinating', 'well-balanced', 'reforming', 'charismatic', 'sparkle', 'overtaken', 'swift', 'irresistible', 'idol', 'erudite', 'vigilance', 'wondrous', 'masters', 'prestige', 'energetic', 'agility', 'praising', 'upgraded', 'favour', 'hot', 'ebullience', 'adore', 'cheery', 'vouchsafe', 'steadfastly', 'gleefully', 'gaily', 'sufficed', 'beckoned', 'coherence', 'gainfully', 'counter-attacks', 'magnificence', 'miraculously', 'eyecatching', 'unencumbered', 'ideal', 'industrious', 'magnanimous', 'regally', 'headway', 'time-honored', 'invaluablely', 'warm', 'friendliness', 'punctual', 'decisiveness', 'luxuriant', 'masterpiece', 'recommendations', 'spirited', 'leverage', 'mercifully', 'smiles', 'considerate', 'mesmerized', 'painless', 'exonerate', 'sincerity', 'promise', 'tenacious', 'zest', 'buoyant', 'illustrious', 'engaging', 'master', 'respectfully', 'unquestionably', 'led', 'yay', 'unabashed', 'fondness', 'playfully', 'fervid', 'affirmation', 'joyful', 'overture', 'enhance', 'enticing', 'adventuresome', 'awarded', 'maturity', 'replaceable', 'subsidizes', 'freedoms', 'ebulliently', 'timely', 'classy', 'reaffirm', 'permissible', 'irreplaceable', 'crisper', 'popular', 'outperformed', 'stunned', 'exhilarating', 'profuse', 'eye-catching', 'thoughtful', 'nice', 'fav', 'soundness', 'beckoning', 'delicate', 'fidelity', 'euphoria', 'calming', 'modest', 'patriotic', 'twinkly', 'like', 'amazement', 'protection', 'humour', 'trivially', 'skill', 'innocuous', 'outperform', 'defeating', 'wellbeing', 'reforms', 'stupendously', 'fortitude', 'hospitable', 'thrill', 'earnestly', 'benefactor', 'luster', 'entrust', 'sensible', 'futurestic', 'jubilation', 'sharper', 'doubtless', 'jubilantly', 'excellently', 'superbly', 'catchy', 'compact', 'resourcefulness', 'prudence', 'enthusiastic', 'dawn', 'remunerate', 'usable', 'heartening', 'richly', 'effusive', 'stellarly', 'tickle', 'astonishment', 'faithful', 'rejuvenated', 'succes', 'self-sufficiency', 'mesmerizes', 'likable', 'easiness', 'perfection', 'agreeably', 'simpler', 'phenomenally', 'perfect', 'surreal', 'congenial', 'evaluative', 'meaningful', 'respite', 'marvellous', 'ready', 'charisma', 'simplifying', 'deft', 'invincible', 'genial', 'happy', 'adorable', 'beautify', 'respect', 'courteous', 'fastest', 'glorify', 'keen', 'rightful', 'eminence', 'plush', 'truthfully', 'miracle', 'abound', 'uncomplicated', 'celebratory', 'high-spirited', 'flatter', 'orderly', 'awesomely', 'enthuse', 'amusing', 'tingle', 'guidance', 'quiet', 'quieter', 'nimble', 'altruistically', 'intriguingly', 'maturely', 'cooperatively', 'unrivaled', 'humility', 'gladden', 'stimulating', 'astounding', 'sane', 'gains', 'greatest', 'openly', 'lush', 'unreal', 'precise', 'hilarious', 'elegantly', 'impartial', 'gratitude', 'constructive', 'hero', 'dirt-cheap', 'remedy', 'goood', 'achievible', 'defeated', 'exaltingly', 'fervently', 'promises', 'pride', 'easier', 'top-notch', 'gratification', 'exceptionally', 'happier', 'delicacy', 'decisive', 'invincibility', 'defeats', 'vivid', 'prosper', 'gratifies', 'vibrant', 'win', 'courageous', 'convincingly', 'gorgeous', 'shiny', 'ingenuously', 'unity', 'avid', 'awesomeness', 'precisely', 'first-class', 'hallmark', 'lead', 'praise', 'dreamland', 'excels', 'tidy', 'compliant', 'victory', 'satisified', 'resounding', 'spellbound', 'luxuriously', 'willingly', 'risk-free', 'agreeable', 'gorgeously', 'virtue', 'admiring', 'loyal', 'correctly', 'premier', 'issue-free', 'recommendation', 'adaptive', 'supporting', 'tender', 'ameliorate', 'regal', 'laudably', 'invigorate', 'poetic', 'heros', 'encourage', 'refund', 'backbone', 'glisten', 'memorable', 'complimentary', 'wonderful', 'adorer', 'god-given', 'inviolable', 'goodly', 'humor', 'lawfully', 'cheerful', 'saintliness', 'praiseworthy', 'imaginative', 'adaptable', 'famed', 'beneficially', 'privileged', 'zippy', 'outstanding', 'graciously', 'heartwarming', 'astonishing', 'lively', 'indulgent', 'infallibility', 'competitive', 'gain', 'suave', 'satisfactorily', 'efficacious', 'amazes', 'ardor', 'commendable', 'jollify', 'gladness', 'affirmative', 'responsibly', 'benevolent', 'enjoy', 'commend', 'sweetly', 'magical', 'wonderous', 'courage', 'romantically', 'simplified', 'instantly', 'striking', 'enthusiasm', 'unequivocally', 'vivacious', 'wise', 'robust', 'credible', 'best-known', 'handy', 'fine', 'enchanted', 'awsome', 'peace', 'patriot', 'progress', 'exellent', 'virtuously', 'energy-efficient', 'restructure', 'eloquent', 'handsome', 'sincerely', 'honoring', 'foremost', 'steadiest', 'sumptuously', 'exhilarate', 'idolize', 'rectifying', 'sustainability', 'pre-eminent', 'correct', 'outshine', 'stunning', 'illumine', 'boost', 'legendary', 'salutary', 'appealing', 'truthful', 'compatible', 'dignified', 'easy', 'revolutionize', 'improvement', 'enjoyable', 'oasis', 'supurbly', 'work', 'enthusiast', 'neatly', 'rapturously', 'unparalleled', 'luxury', 'clear', 'amicably', 'contribution', 'luck', 'strikingly', 'indebted', 'abundance', 'amity', 'effectively', 'ease', 'revel', 'prestigious', 'spellbind', 'thinner', 'exultation', 'pampers', 'colorful', 'invigorating', 'electrify', 'dumbfounding', 'heavenly', 'elation', 'motivated', 'beauteous', 'integral', 'hallowed', 'thrills', 'diligence', 'succeeds', 'hotcakes', 'gentle', 'viewable', 'great', 'luxurious', 'feasible', 'astonish', 'workable', 'boom', 'smoothest', 'rectify', 'admirably', 'elevate', 'fantastically', 'harmonious', 'record-setting', 'bountiful', 'trendy', 'advantage', 'capable', 'straightforward', 'cool', 'capably', 'agilely', 'sweetness', 'marvelled', 'splendor', 'brainiest', 'thumb-up', 'gumption', 'instructive', 'finest', 'dependably', 'ethical', 'sustainable', 'tantalize', 'comfortable', 'edify', 'smoothly', 'well-rounded', 'verifiable', 'obsession', 'worthy', 'vibrantly', 'acclaimed', 'entertaining', 'dazzled', 'rational', 'nobly', 'easing', 'freed', 'satisfied', 'examplary', 'reassure', 'keenness', 'succeed', 'safe', 'available', 'nourish', 'important', 'kid-friendly', 'beckons', 'endorsing', 'greatness', 'brilliances', 'illuminate', 'principled', 'standout', 'glory', 'willingness', 'magnificent', 'courtly', 'exalting', 'nicest', 'earnestness', 'honored', 'favorable', 'danke', 'acclamation', 'subsidizing', 'admirable', 'exuberantly', 'reclaim', 'entice', 'well-intentioned', 'shimmeringly', 'multi-purpose', 'complements', 'affordably', 'elegance', 'rewardingly', 'loves', 'handily', 'ardent', 'trouble-free', 'accurate', 'solid', 'daring', 'fairness', 'exultant', 'adulation', 'snappy', 'vouch', 'nourishing', 'modesty', 'vigilant', 'titillatingly', 'exalted', 'fortunately', 'compactly', 'excellency', 'cure', 'honorable', 'mercy', 'delightful', 'excellence', 'fortunate', 'dominates', 'agreeableness', 'rejoicingly', 'prospros', 'amenity', 'adroit', 'blameless', 'well-regarded', 'noteworthy', 'inviolate', 'astutely', 'glee', 'lavishly', 'silent', 'enjoys', 'fresher', 'believeable', 'groundbreaking', 'tantalizingly', 'alluringly', 'unbound', 'honesty', 'sexy', 'sumptuousness', 'affluent', 'cornerstone', 'relish', 'masterpieces', 'responsive', 'manageable', 'faith', 'thrift', 'comprehensive', 'gainful', 'celebration', 'divine', 'commendably', 'dedicated', 'stupendous', 'fond', 'ultra-crisp', 'entertain', 'adventurous', 'exceled', 'lucid', 'humorous', 'polite', 'lean', 'angelic', 'congratulate', 'approval', 'chic', 'awed', 'helpful', 'intriguing', 'comfy', 'valiantly', 'fresh', 'loveliness', 'diligent', 'bravo', 'pain-free', 'envy', 'idyllic', 'proficient', 'bullish', 'swanky', 'rightly', 'exaltedly', 'revival', 'diversified', 'attentive', 'patient', 'compliment', 'first-in-class', 'mighty', 'receptive', 'thoughtfully', 'bravery', 'shine', 'skillfully', 'endorse', 'trustworthiness', 'spotless', 'thank', 'refined', 'productively', 'champ', 'ebullient', 'swiftness', 'evenly', 'propitious', 'finely', 'trusted', 'appreciate', 'tranquil', 'enjoyed', 'cheer', 'flawlessly', 'amicable', 'glowing', 'audibly', 'well-positioned', 'adoring', 'windfall', 'dead-cheap', 'approve', 'beneficial', 'excitedly', 'exult', 'beneficent', 'danken', 'logical', 'stunningly', 'advocates', 'beutifully', 'pepping', 'tougher', 'respectable', 'adored', 'beauty', 'neatest', 'sublime', 'wisely', 'economical', 'merit', 'advanced', 'deserving', 'revelation', 'enlightenment', 'sensationally', 'comforting', 'inestimably', 'notably', 'accomplished', 'cure-all', 'law-abiding', 'raptureously', 'believable', 'affable', 'lawful', 'resilient', 'terrifically', 'outdone', 'jaw-droping', 'decency', 'revive', 'smiling', 'dextrous', 'flashy', 'affirm', 'exquisite', 'survival', 'congratulatory', 'justly', 'coolest', 'retractable', 'destiny', 'impressiveness', 'fairly', 'entertains', 'fertile', 'flourish', 'suffices', 'ambitious', 'prefers', 'unfettered', 'calmness', 'brighter', 'splendidly', 'purify', 'poignant', 'gutsy', 'luminous', 'proud', 'thriving', 'ambitiously', 'enrapt', 'grateful', 'resound', 'valuable', 'strongest', 'rock-stars', 'dynamic', 'achievements', 'irresistibly', 'appreciated', 'astonished', 'refunded', 'revives', 'pure', 'powerfully', 'exciting', 'raptureous', 'improving', 'holy', 'lower-priced', 'adroitly', 'enough', 'willing', 'majesty', 'steadfast', 'everlasting', 'immaculately', 'advocated', 'award', 'clearer', 'bonus', 'whoa', 'expertly', 'inspirational', 'upheld', 'god-send', 'accomplish', 'rapt', 'delight', 'fanfare', 'enthral', 'plusses', 'thrilling', 'protective', 'momentous', 'peaceful', 'excellant', 'breeze', 'firmer', 'beckon', 'liking', 'unlimited', 'rejuvenating', 'thankful', 'kindliness', 'smoother', 'trusting', 'empathy', 'confident', 'preferably', 'fascinating', 'heroic', 'refreshed', 'trusty', 'mature', 'paramount', 'successfully', 'undaunted', 'cashbacks', 'wholeheartedly', 'brainy', 'worth-while', 'pluses', 'reverent', 'titillating', 'marvelously', 'recover', 'prodigy', 'convincing', 'pampered', 'zenith', 'glad', 'sporty', 'empathize', 'laud', 'soft', 'gaining', 'sleek', 'useful', 'resourceful', 'uplifting', 'tops', 'admiringly', 'hard-working', 'heroine', 'glamorous', 'significant', 'survivor', 'stylized', 'frolic', 'rejuvenate', 'ovation', 'ecstasies', 'distinguished', 'invaluable', 'zeal', 'spectacularly', 'dignify', 'smitten', 'restful', 'problem-free', 'realizable', 'fondly', 'supported', 'amazed', 'posh', 'redemption', 'undisputably', 'accurately', 'finer', 'favor', 'surmount', 'spontaneous', 'trustworthy', 'adoringly', 'works', 'user-friendly', 'advocate', 'counter-attack', 'leads', 'well-wishers', 'dotingly', 'nurturing', 'upscale', 'merriment', 'unassailable', 'soothe', 'clear-cut', 'patiently', 'witty', 'advantages', 'wonders', 'all-around', 'godsend', 'rapturous', 'rockstar', 'faster', 'instrumental', 'luckiness', 'togetherness', 'low-risk', 'eases', 'diplomatic', 'inventive', 'joyous', 'clarity', 'sprightly', 'gusto', 'benefits', 'safely', 'inspiring', 'recommend', 'attractive', 'lovely', 'profoundly', 'recovery', 'long-lasting', 'righteously', 'gratifyingly', 'pinnacle', 'eager', 'reaffirmation', 'elatedly', 'endearing', 'nicer', 'revolutionary', 'marvelous', 'eyecatch', 'precious', 'reasonable', 'winnable', 'optimism', 'improvements', 'cheaper', 'poeticize', 'upgradable', 'enthrall', 'quaint', 'ilu', 'graciousness', 'benevolence', 'fluent', 'state-of-the-art', 'fast', 'marvel', 'sagely', 'comfort', 'excallent', 'brilliant', 'valiant', 'feasibly', 'celebrated', 'exhilaratingly', 'autonomous', 'inexpensive', 'straighten', 'restored', 'best-selling', 'accommodative', 'unequivocal', 'ingenuity', 'deginified', 'influential', 'durable', 'miracles', 'sophisticated', 'pleased', 'elated', 'stainless', 'generous', 'amazingly', 'lucidly', 'peacekeepers', 'evocative', 'serenity', 'reassurance', 'encouragingly', 'acumen', 'heartily', 'self-sufficient', 'laudable', 'welcome', 'renaissance', 'superior', 'easy-to-use', 'mesmerize', 'loyalty', 'sufficient', 'harmonize', 'modern', 'satisfy', 'enrich', 'crisp', 'romanticize', 'humble', 'free', 'dignity', 'rosy', 'prompt', 'soundly'}\n",
            "{'cave', 'delude', 'misunderstood', 'bloodthirsty', 'insincerely', 'cutthroat', 'adverse', 'long-winded', 'freak', 'incorrectly', 'obscenity', 'paltry', 'watered-down', 'demolisher', 'counter-productive', 'horrific', 'sarcasm', 'amiss', 'joker', 'scolding', 'wildly', 'aggravate', 'ill-sorted', 'overawe', 'boil', 'remorse', 'vibration', 'unsettled', 'fractiously', 'dislike', 'tyrannically', 'devilment', 'comical', 'despondency', 'isolated', 'stupified', 'allegation', 'impoverish', 'disrespectful', 'eschew', 'sillily', 'sufferer', 'unsuccessful', 'tawdry', 'doomsday', 'cons', 'intense', 'layoff', 'traumatized', 'bewildered', 'disintegration', 'sub-par', 'allegations', 'contradiction', 'emptiness', 'confuses', 'disadvantages', 'fearful', 'neurotically', 'recourses', 'strained', 'interfere', 'delays', 'tragic', 'unnervingly', 'uprising', 'plotters', 'bizarre', 'discrimination', 'bragger', 'ranted', 'mist', 'hissing', 'impudence', 'poky', 'phony', 'rhetoric', 'grossly', 'treacherous', 'blunders', 'molestation', 'villify', 'degenerately', 'desertion', 'wilt', 'incapable', 'torturous', 'arduous', 'atrocious', 'anxiety', 'grudgingly', 'cripple', 'defamations', 'vestiges', 'disquietingly', 'cheapen', 'hasty', 'temper', 'incapably', 'inefficiency', 'traumatize', 'wiles', 'miserableness', 'weaknesses', 'disagreed', 'humiliate', 'boring', 'lanky', 'worsen', 'incompetent', 'stresses', 'demon', 'sack', 'conspire', 'malign', 'deign', 'treason', 'famine', 'moron', 'egregiously', 'nag', 'leery', 'curses', 'hard', 'disbelieve', 'vomiting', 'accusation', 'insecurity', 'hysterically', 'browbeat', 'clumsy', 'fanatically', 'aloof', 'gainsay', 'heavyhearted', 'incompliant', 'disaffirm', 'marginal', 'narrower', 'obscured', 'ironical', 'punishable', 'regressive', 'domineering', 'irretrievable', 'ultra-hardline', 'awkward', 'extermination', 'woeful', 'coldly', 'impermissible', 'insolvent', 'spoilage', 'siege', 'vexation', 'violent', 'questionable', 'bewail', 'exasperation', 'immorality', 'protracted', 'skimpy', 'doubt', 'superficial', 'befoul', 'tired', 'taint', 'torturously', 'inconsequent', 'lemon', 'risks', 'groundless', 'absurdly', 'spiritless', 'plea', 'stalemate', 'untrue', 'wretched', 'adamant', 'misguided', 'whore', 'fleed', 'addict', 'static', 'steep', 'suicide', 'temptation', 'tortured', 'divisively', 'rankle', 'starve', 'hellion', 'ho-hum', 'haunt', 'bothering', 'shiver', 'threaten', 'haggle', 'revile', 'asininely', 'needlessly', 'disparagingly', 'scrap', 'nebulously', 'outrageously', 'belligerence', 'painfully', 'importune', 'bitchy', 'depressions', 'phobia', 'judder', 'isolate', 'pale', 'sluts', 'impropriety', 'dissidence', 'acridly', 'precariously', 'evil', 'jeopardize', 'subservient', 'upset', 'messes', 'renunciation', 'impedance', 'impulsive', 'misbehavior', 'nitpicking', 'showdown', 'symptoms', 'underlings', 'alarmingly', 'funky', 'opponent', 'indecisively', 'forbid', 'tarnish', 'pig', 'mar', 'spitefully', 'flat-out', 'conspicuously', 'smouldering', 'stumble', 'tyrant', 'downturn', 'bereave', 'creepy', 'indulge', 'scorn', 'rail', 'regret', 'exacerbate', 'spinster', 'dishearten', 'extravagant', 'ranting', 'skinny', 'deceivers', 'harassed', 'disillusioned', 'anti-social', 'impugn', 'addicting', 'injure', 'sedentary', 'uncaring', 'floundering', 'frost', 'quarrellous', 'beleaguer', 'unnerved', 'oddly', 'wasting', 'awfully', 'frighteningly', 'partisan', 'rant', 'chaotic', 'oppression', 'accusations', 'fastidious', 'rubbish', 'gutter', 'sloooow', 'back-woods', 'bugs', 'stingy', 'undermined', 'viper', 'judders', 'oblivious', 'havoc', 'devious', 'sinisterly', 'appall', 'afflictive', 'intransigent', 'ordeal', 'slothful', 'smack', 'unilateralism', 'irreconcilable', 'poorer', 'thicker', 'gaffe', 'leaking', 'unrealistic', 'fat-cat', 'harmed', 'imperfectly', 'incite', 'dissention', 'crash', 'assult', 'critic', 'lousy', 'overwhelming', 'uncertain', 'knave', 'limited', 'infuriate', 'imbecile', 'hegemonism', 'inferiority', 'sobering', 'bruises', 'fussy', 'annoying', 'ignominious', 'thorny', 'topple', 'malcontented', 'flounder', 'insensitive', 'dumbfound', 'tout', 'difficult', 'forebodingly', 'nagging', 'bulkyness', 'frustrates', 'insolence', 'chore', 'rut', 'jutter', 'apprehensions', 'malcontent', 'obscure', 'bait', 'inclement', 'repel', 'stern', 'downsides', 'grumpily', 'horrendously', 'irascible', 'degradation', 'perilous', 'wrangle', 'dull', 'insignificance', 'sap', 'haughty', 'douchebag', 'mordant', 'strut', 'insubstantial', 'shimmy', 'lapse', 'disheartening', 'complicated', 'confession', 'din', 'jitters', 'conscons', 'sugarcoated', 'eviscerate', 'oddity', 'unexpectedly', 'hypocrite', 'discord', 'mysterious', 'dust', 'dispute', 'evasion', 'iniquitous', 'insane', 'undermine', 'distraught', 'troublesomely', 'whiny', 'famished', 'bedlamite', 'irk', 'lamentably', 'listless', 'impossible', 'flout', 'deadlock', 'sick', 'posturing', 'junk', 'stains', 'fall', 'incompatible', 'overpayed', 'concen', 'scapegoat', 'dissing', 'exagerates', 'freakish', 'alienated', 'bribery', 'ruts', 'deform', 'misdirection', 'apologist', 'incomprehensible', 'wrongful', 'unwillingly', 'anarchism', 'condescension', 'pain', 'ironies', 'suck', 'gnawing', 'renounce', 'helpless', 'inattentive', 'scratched', 'pan', 'madder', 'hardship', 'disservice', 'heckles', 'miserably', 'sinking', 'ding', 'annoyances', 'fried', 'viciously', 'intrude', 'rogue', 'fiasco', 'loathing', 'passive', 'bid-rigging', 'inteferes', 'vagrant', 'hum', 'hysterical', 'disobedience', 'clamor', 'excruciatingly', 'donside', 'flirt', 'incommensurate', 'rumors', 'unscrupulously', 'hysterics', 'fragmented', 'bellicose', 'irritation', 'shrilly', 'leaks', 'hard-liner', 'suspect', 'demonizing', 'squash', 'maledict', 'audaciously', 'deceptively', 'detesting', 'obnoxiously', 'slime', 'vehement', 'vulgar', 'dogged', 'displeased', 'abysmally', 'disadvantageous', 'hypocritical', 'oversimplification', 'false', 'liability', 'scandal', 'untested', 'wheedle', 'quarrellously', 'untrustworthy', 'bitch', 'despicable', 'stampede', 'botch', 'rotten', 'overkill', 'obliterated', 'distastefully', 'hefty', 'sink', 'ugliest', 'frightful', 'hideously', 'stubbornness', 'abnormal', 'yawn', 'mercilessly', 'incomparable', 'ache', 'reactionary', 'ironically', 'rigidity', 'asperse', 'obstructs', 'rremediable', 'smuttiest', 'fatal', 'bastards', 'injurious', 'invasive', 'suppress', 'deceiver', 'furiously', 'stupify', 'fatique', 'austere', 'credulous', 'coercive', 'galling', 'propagandize', 'regrettably', 'bemoan', 'stormy', 'undid', 'subjection', 'timid', 'derision', 'forgetful', 'deprive', 'underdog', 'quibble', 'drowning', 'pitiful', 'unfaithful', 'bonkers', 'horde', 'disapointment', 'unsure', 'illogic', 'startle', 'error', 'shortage', 'mania', 'flakey', 'criticize', 'rebuff', 'troublingly', 'usurper', 'intimidating', 'chaff', 'agonizingly', 'misgiving', 'fault', 'lags', 'ill-formed', 'malady', 'problem', 'squabble', 'cracked', 'nightmarishly', 'misfit', 'motley', 'inaptitude', 'mockingly', 'wastefulness', 'worst', 'disappointing', 'strict', 'zaps', 'enervate', 'strangely', 'dispirit', 'fascism', 'improbable', 'time-consuming', 'stuffy', 'hesitant', 'dying', 'inadverent', 'ineffectively', 'darkened', 'disdainfully', 'disapprove', 'bleak', 'domineer', 'repulsively', 'infraction', 'dimmer', 'recessionary', 'conflicts', 'scathing', 'unseemly', 'deny', 'craftily', 'disapointed', 'trouble', 'irrecoverablenesses', 'nettle', 'fatalistically', 'superficiality', 'bad', 'snub', 'fever', 'cheerless', 'sob', 'foulness', 'fatcats', 'dissapointed', 'ferociously', 'gross', 'betraying', 'dissatisfies', 'garbage', 'cunt', 'irrationalities', 'ghosting', 'overrated', 'degenerate', 'blockage', 'cripples', 'niggle', 'hung', 'predatory', 'multi-polarization', 'malevolence', 'pandering', 'dissappointing', 'smuttier', 'intimidate', 'sour', 'contaminating', 'corrupts', 'disgraceful', 'over-hyped', 'cramped', 'savages', 'stooges', 'sloppily', 'cursed', 'outrages', 'irately', 'melancholy', 'insurmountable', 'devastated', 'damper', 'detracting', 'imperil', 'jagged', 'misfortune', 'lorn', 'undermining', 'dissatisfactory', 'heckle', 'flaking', 'cheater', 'harden', 'injury', 'calumnious', 'inability', 'bullying', 'sore', 'discourage', 'betrays', 'loser', 'noxious', 'ill-conceived', 'hang', 'violently', 'forswear', 'dubiously', 'impolite', 'leak', 'goading', 'lawbreaking', 'mistified', 'oblique', 'inhospitality', 'grievous', 'improbability', 'avariciously', 'prisoner', 'troublesome', 'faithless', 'flimflam', 'salacious', 'restricted', 'complaining', 'maliciously', 'disgruntle', 'moot', 'bump', 'premeditated', 'worries', 'ashamed', 'aimless', 'irreplacible', 'licentious', 'diappointed', 'dissappointed', 'shortcomings', 'miscreant', 'divisive', 'wedge', 'suspiciously', 'unspeakablely', 'hate', 'killed', 'infuriatingly', 'dim', 'badly', 'remorselessly', 'fallen', 'distraction', 'grieve', 'impetuous', 'disputable', 'gruesome', 'inefficacious', 'infiltrator', 'fudge', 'irrelevant', 'heavy-handed', 'insanity', 'sloooooooooooooow', 'brutalize', 'pathetic', 'strike', 'geezer', 'inarticulate', 'throttle', 'disregard', 'two-faces', '2-faces', 'corrosive', 'dubitable', 'shocked', 'sermonize', 'meanness', 'belligerently', 'peculiarly', 'tarnished', 'damnable', 'disrupt', 'picket', 'disrespectfully', 'smutty', 'brainwash', 'venomously', 'misrepresentation', 'cramp', 'criminal', 'hothouse', 'disquieting', 'incorrigibly', 'ruthlessness', 'ailing', 'susceptible', 'torment', 'atrocity', 'hobble', 'fanaticism', 'demonized', 'resent', 'chastisement', 'back-wood', 'cynicism', 'inadverently', 'obstruct', 'scoundrel', 'unsupportive', 'asinininity', 'nervously', 'bland', 'disliking', 'spoiled', 'disagrees', 'sourly', 'emphatically', 'shriek', 'desperate', 'mislead', 'outrageousness', 'tangles', 'vilify', 'overpaid', 'disorient', 'busybody', 'lackey', 'frustrate', 'puzzling', 'shortness', 'brutally', 'loud', 'misstatement', 'retract', 'devastation', 'debaucher', 'mendacity', 'castigate', 'nauseate', 'dizzing', 'panick', 'peevishly', 'admonisher', 'extortion', 'profanity', 'desolate', 'indolent', 'scared', 'terrible', 'uncompromisingly', 'unstable', 'overbearing', 'beset', 'despondent', 'lonesome', 'implacable', 'disappoint', 'meaningless', 'ruining', 'lividly', 'ruthlessly', 'grapple', 'retreated', 'plasticky', 'egotistical', 'scolded', 'stridently', 'creeping', 'crappy', 'subversively', 'ripoff', 'overdo', 'annihilate', 'flagging', 'trashy', 'erodes', 'vengefulness', 'irritant', 'sully', 'hegemony', 'taunting', 'unrelentingly', 'persecution', 'weary', 'implausible', 'smut', 'sly', 'entangle', 'petrify', 'slow', 'tingling', 'unclean', 'eccentric', 'unresponsive', 'improbably', 'aggrieve', 'lowly', 'crumble', 'miserable', 'straggler', 'presumptuous', 'tanks', 'touts', 'unsupported', 'nosey', 'paranoid', 'swelled', 'criticism', 'importunate', 'dispiriting', 'bullshyt', 'wreaks', 'panicking', 'miseries', 'deceitfulness', 'undercuts', 'blur', 'stumbled', 'apathetic', 'disapproving', 'gibe', 'motionless', 'capricious', 'detested', 'intransigence', 'heathen', 'diabolic', 'disastrous', 'unpopular', 'hideousness', 'nauseating', 'bashed', 'combust', 'dope', 'unavoidably', 'arrogance', 'ominous', 'squirm', 'catastrophically', 'stagnant', 'wound', 'accusing', 'decay', 'depress', 'illusions', 'implicate', 'killing', 'mourn', 'nauseates', 'mangle', 'gruesomely', 'offenses', 'expire', 'blotchy', 'cruel', 'noise', 'peevish', 'decrement', 'aggrivation', 'blatant', 'fraught', 'stiff', 'steeply', 'faulty', 'upbraid', 'hoodwink', 'innuendo', 'rift', 'contradict', 'bullyingly', 'grainy', 'decline', 'imbalance', 'villainous', 'horrid', 'debauchery', 'far-fetched', 'low-rated', 'apathetically', 'hells', 'undependability', 'dogmatic', 'pillage', 'miff', 'nauseatingly', 'ambiguous', 'indefensible', 'horrible', 'uglier', 'fumes', 'irregular', 'wreck', 'clueless', 'brat', 'deceit', 'excessive', 'uproarious', 'overstate', 'distracting', 'scandalized', 'wane', 'frantically', 'forgetfully', 'dragoon', 'twisted', 'ignore', 'confounded', 'unconvincingly', 'anarchist', 'flaws', 'unconstitutional', 'harboring', 'conceited', 'illegal', 'misuse', 'worthlessness', 'eyesore', 'passe', 'overpower', 'inconceivably', 'dreadfulness', 'powerless', 'abyss', 'reticent', 'spewed', 'archaic', 'scratches', 'brazenly', 'unacceptablely', 'beastly', 'fictitious', 'chilly', 'fraud', 'hypocricy', 'streaky', 'spendy', 'head-aches', 'subdued', 'condemned', 'breakdown', 'obese', 'uproot', 'stiflingly', 'discordant', 'anxiousness', 'repudiation', 'bumpy', 'cheesy', 'inopportune', 'grisly', 'unfamiliar', 'anomaly', 'fidgety', 'pariah', 'stymied', 'defamation', 'concern', 'allergies', 'unlamentably', 'patronize', 'downhill', 'wretchedness', 'errant', 'zealous', 'inextricable', 'inhuman', 'stain', 'racy', 'arrogantly', 'desolation', 'invalidity', 'slogs', 'unnerving', 'limp', 'screwed', 'flak', 'enrage', 'assault', 'mistrustfully', 'seriousness', 'lurch', 'paradoxical', 'gravely', 'procrastinates', 'mortify', 'uncompromising', 'underestimate', 'cheap', 'gawky', 'dirtbag', 'virulently', 'grudge', 'dented', 'squeal', 'unfounded', 'refuses', 'scant', 'touchy', 'unsound', 'debasement', 'scoldingly', 'fallaciously', 'nuisance', 'dent', 'exaggeration', 'reproachful', 'spewing', 'irritations', 'shock', 'slaughter', 'temerity', 'tenuous', 'gibberish', 'inanely', 'negligent', 'sneering', 'deviously', 'hotheaded', 'mock', 'mess', 'lier', 'sass', 'brashly', 'scuff', 'embroilment', 'scarcely', 'ill-natured', 'travesties', 'criticized', 'throbbed', 'boisterous', 'incorrect', 'insufficient', 'gallingly', 'poorly', 'feeblely', 'water-down', 'absurdness', 'pollute', 'zealot', 'infringe', 'hacks', 'jealousness', 'boycott', 'imprisonment', 'insufficiently', 'collapse', 'bemoaning', 'deteriorate', 'unreasonable', 'brusque', 'shirk', 'contrive', 'deceive', 'angriness', 'degrading', 'freakishly', 'longing', 'raked', 'slanderous', 'dishonest', 'naughty', 'irrationality', 'shallow', 'unbearable', 'bumping', 'inexcusable', 'miscellaneous', 'so-cal', 'concessions', 'itchy', 'fearfully', 'flaunt', 'mistress', 'pretence', 'sinfully', 'inadvisably', 'naively', 'preposterously', 'complaints', 'sweaty', 'downbeat', 'deluded', 'discountenance', 'dumps', 'impose', 'inexorable', 'restrictive', 'ruins', 'drop-outs', 'indecision', 'infringement', 'misleadingly', 'polemize', 'unfunded', 'wrinkle', 'toll', 'backaching', 'derisiveness', 'regretfully', 'fluster', 'cruelties', 'heartbreaker', 'regrettable', 'anti-american', 'helplessness', 'indigent', 'insignificant', 'junky', 'pervert', 'raping', 'sabotage', 'scary', 'despotic', 'subtract', 'irony', 'incompetently', 'goad', 'ulterior', 'slower', 'frazzled', 'greed', 'distains', 'ricer', 'uncompetitive', 'beggarly', 'boastful', 'fascist', 'graft', 'peeve', 'vibrating', 'flareups', 'menace', 'condescendingly', 'trauma', 'compulsion', 'emaciated', 'critical', 'belligerent', 'mudslinger', 'unnecessary', 'fastidiously', 'polluter', 'blurring', 'disable', 'brittle', 'disobey', 'ambivalence', 'monotonous', 'nastily', 'sceptical', 'hangs', 'grieving', 'exasperated', 'mudslinging', 'sneak', 'broken', 'indiscriminately', 'bigotry', 'desultory', 'cruelness', 'grudges', 'scandalize', 'hapless', 'disintegrates', 'meager', 'sadness', 'wayward', 'defunct', 'degrade', 'ungrateful', 'dense', 'straining', 'impiety', 'ill-treated', 'livid', 'sickly', 'unreachable', 'unsatisfactory', 'ax', 'drawbacks', 'distort', 'entrapment', 'sucky', 'discredit', 'hard-hit', 'hatefulness', 'pittance', 'dissolution', 'crept', 'apprehensive', 'unhealthy', 'upsets', 'batty', 'skeletons', 'urgent', 'insufficiency', 'bulky', 'manipulative', 'complained', 'sugar-coat', 'syndrome', 'instigators', 'crumbling', 'entrap', 'discoutinous', 'terror', 'thoughtlessness', 'traduce', 'mediocre', 'obnoxious', 'straggle', 'villianous', 'vibrates', 'agonies', 'radical', 'freaks', 'aggressive', 'infidels', 'inflame', 'repulsed', 'stuttering', 'na ve', 'dictatorial', 'dilemma', 'cry', 'lurk', 'frictions', 'madly', 'forbidding', 'eruptions', 'complain', 'dismayingly', 'leer', 'scandalously', 'skeptic', 'tarnishing', 'insecure', 'gritty', 'irritate', 'overbalanced', 'sputter', 'obsolete', 'farcical-yet-provocative', 'died', 'shroud', 'testy', 'wrongly', 'struggled', 'suspicious', 'outrageous', 'discriminate', 'refute', 'stingingly', 'blurred', 'wripped', 'stupor', 'strangle', 'neurotic', 'anxieties', 'byzantine', 'little-known', 'dastard', 'froze', 'fateful', 'antithetical', 'betray', 'daze', 'flakieness', 'plight', 'abrasive', 'two-faced', 'bully', 'indignant', 'regreted', 'dreadfully', 'hostile', 'onerously', 'allergic', 'calamitously', 'restless', 'nervousness', 'dripped', 'suffocate', 'grouse', 'inconsequentially', 'aggravating', 'racist', 'smear', 'overdue', 'viciousness', 'baseless', 'wretch', 'assassin', 'retarded', 'astray', 'backwardness', 'bristle', 'discontentedly', 'disgustfully', 'negate', 'sorrowful', 'predicament', 'unlawfulness', 'cynical', 'disinterested', 'grumpy', 'disapprobation', 'debacle', 'censure', 'puppets', 'rife', 'dissuasive', 'prickle', 'confessions', 'meddlesome', 'hastily', 'pleas', 'pauper', 'quarrelsome', 'faint', 'adulterier', 'enviousness', 'contaminates', 'creak', 'animosity', 'deploringly', 'undecided', 'bombard', 'criticizing', 'loath', 'disgracefully', 'insanely', 'throbbing', 'dishonorable', 'obsessiveness', 'stricken', 'disgusted', 'unwilling', 'chaos', 'sidetrack', 'reluctant', 'antagonist', 'frown', 'revolt', 'acridness', 'boggle', 'flaw', 'bias', 'addicts', 'forsaken', 'twists', 'discomfititure', 'tediously', 'troubled', 'whores', 'awful', 'bruise', 'futile', 'infest', 'guiltily', 'reluctantly', 'delinquent', 'inimically', 'hinder', 'pernicious', 'wasteful', 'scoffingly', 'stumps', 'infernal', 'corruptted', 'illusory', 'inculcate', 'mismanage', 'dripping', 'worthlessly', 'recalcitrant', 'vulnerable', 'flicker', 'distressing', 'imperious', 'zapped', 'angrily', 'ineptitude', 'disreputable', 'insultingly', 'ultimatums', 'corrode', 'distortion', 'disgustful', 'mishandle', 'objections', 'flares', 'jaded', 'wack', 'ineligible', 'antipathy', 'insociable', 'punk', 'mawkish', 'stupid', 'hideous', 'disconcert', 'dungeons', 'unresolved', 'warning', 'corrupt', 'improperly', 'mispronounces', 'sagging', 'foreboding', 'un-viewable', 'smoldering', 'deprived', 'inexpert', 'litigious', 'shrew', 'glaringly', 'unpleasant', 'dings', 'smolder', 'lagging', 'attack', 'stiffness', 'spoil', 'downfallen', 'worsening', 'hiliarious', 'unbearablely', 'disrespect', 'unrest', 'writhe', 'discontented', 'discontent', 'secretive', 'egocentric', 'bs', 'blistering', 'derisive', 'deterioration', 'disaffect', 'forged', 'growl', 'inhumane', 'incitement', 'stench', 'torturing', 'farcically', 'dumb', 'hogs', 'parasite', 'vociferously', 'reprovingly', 'restriction', 'scold', 'unintelligile', 'irrecoverableness', 'confusions', 'loopholes', 'revoke', 'arrogant', 'severity', 'dodgey', 'unimaginably', 'horrifying', 'sueing', 'gangster', 'useless', 'blabber', 'dangerousness', 'invidiously', 'impair', 'mirage', 'seedy', 'involuntarily', 'shrill', 'unbelievable', 'blemish', 'heartless', 'disruptive', 'blaspheme', 'obscures', 'indecent', 'slander', 'antagonistic', 'outlaw', 'cackle', 'deceiving', 'disinclination', 'murky', 'oppressiveness', 'symptom', 'dead', 'contentious', 'laid-off', 'rejects', 'slump', 'lewd', 'hardhearted', 'malevolently', 'knotted', 'lesser-known', 'remorseful', 'snagging', 'enslave', 'pitifully', 'misjudgment', 'deterrent', 'satirize', 'revoltingly', 'cash-strapped', 'unwelcome', 'worriedly', 'mawkishly', 'ambivalent', 'infringements', 'blinding', 'cringed', 'limitation', 'misunderstand', 'scam', 'clash', 'odd', 'terribleness', 'unravel', 'chatter', 'dislocated', 'stall', 'choppy', 'monstrously', 'spoilages', 'crumpled', 'gall', 'perish', 'seething', 'quandary', 'wreak', 'fanciful', 'impudently', 'phobic', 'shameful', 'cruelest', 'sloow', 'villains', 'stump', 'sharply', 'stupidest', 'sunken', 'fumble', 'naive', 'dismissive', 'dispiritedly', 'retardedness', 'complaint', 'complicit', 'impaired', 'undone', 'warlike', 'unsteadiness', 'dazed', 'unproving', 'drawback', 'bafflement', 'impoverished', 'accursed', 'lack', 'abominable', 'anti-semites', 'despairingly', 'snobish', 'drones', 'exhausts', 'brash', 'freeze', 'retard', 'grate', 'spurious', 'crass', 'tarnishes', 'tattered', 'adversity', 'fanatic', 'envious', 'ripped', 'sicken', 'unsteadily', 'oversights', 'fearsome', 'insatiable', 'occluded', 'reluctance', 'resurgent', 'traitorous', 'bungler', 'stereotypical', 'bewildering', 'unhappiness', 'criticisms', 'reprehensible', 'unsophisticated', 'weakness', 'corruption', 'brainless', 'gimmicks', 'calamitous', 'acerbically', 'self-destructive', 'notorious', 'blister', 'underpaid', 'exile', 'delinquency', 'senseless', 'unequal', 'bickering', 'gaudy', 'messy', 'brutality', 'unsuccessfully', 'floored', 'dearth', 'disdainful', 'impersonal', 'inundate', 'sporadic', 'aversion', 'catastrophes', 'unreasonably', 'tiresome', 'oppressively', 'simplistically', 'vengefully', 'bent', 'delayed', 'spoon-feed', 'dehumanization', 'sucker', 'denigrate', 'mindless', 'loses', 'fatcat', 'inexperienced', 'noisier', 'outrage', 'declaim', 'greasy', 'overpriced', 'craze', 'inconsistency', 'unwell', 'jabber', 'fastuous', 'debilitate', 'cancerous', 'unease', 'worn', 'stutter', 'uncontrolled', 'contaminated', 'refuted', 'buggy', 'chagrin', 'frustrating', 'recklessly', 'abominably', 'leakage', 'woebegone', 'erratic', 'imposing', 'wrought', 'miscreants', 'enviously', 'f**k', 'spank', 'terrorism', 'break', 'infirm', 'servitude', 'indiscernible', 'clouding', 'disparage', 'conflict', 'rattled', 'malodorous', 'mad', 'liars', 'fib', 'dishonor', 'unfeeling', 'wail', 'superstitious', 'discontinuity', 'struggle', 'inescapably', 'distraughtly', 'illicit', 'drought', 'pander', 'worrier', 'hurting', 'butchery', 'blunt', 'crippling', 'womanizer', 'recession', 'hampered', 'irksomenesses', 'mangles', 'penalty', 'inappropriate', 'skeptical', 'doubtfully', 'undue', 'harsh', 'admonition', 'uproarously', 'rascals', 'bore', 'peeved', 'villainously', 'occludes', 'conservative', 'vomited', 'selfinterested', 'unappealing', 'excoriate', 'grim', 'wrinkles', 'condemn', 'dud', 'asinine', 'subpoena', 'undetermined', 'demonizes', 'monotony', 'unusable', 'chasten', 'senselessly', 'slowly', 'apprehensively', 'inhumanity', 'unbelievably', 'loneliness', 'remorsefully', 'bust', 'headaches', 'exhaust', 'hindrance', 'deficient', 'misery', 'downturns', 'fulminate', 'malevolent', 'rival', 'irresponsible', 'unneeded', 'obtrusive', 'choleric', 'untouched', 'overemphasize', 'tamper', 'heckled', 'delusional', 'discontinuous', 'stolen', 'inflammed', 'heresy', 'self-coup', 'stagnation', 'thoughtless', 'detrimental', 'contagious', 'betrayer', 'flaky', 'hubris', 'indecently', 'lie', 'saggy', 'betrayals', 'irregularity', 'fatigued', 'spotty', 'inhibition', 'depressingly', 'vent', 'incoherent', 'scum', 'desiccated', 'deplore', 'disappoints', 'fuss', 'obstructed', 'splitting', 'worrying', 'disappointed', 'moody', 'displeasure', 'vexing', 'prickles', 'anguish', 'repress', 'adulterated', 'craftly', 'depressed', 'forgetfulness', 'dissident', 'misinform', 'rumple', 'itching', 'meddle', 'involuntary', 'costly', 'sadly', 'barbarically', 'chronic', 'earsplitting', 'monster', 'reprehension', 'conspicuous', 'breakups', 'gimmick', 'jaundiced', 'complex', 'raving', 'unreadable', 'irreparable', 'fawningly', 'ruin', 'interruption', 'submissive', 'shrivel', 'damning', 'fanatics', 'hooligan', 'grumble', 'imprecise', 'inequitable', 'inevitable', 'intimidatingly', 'militancy', 'remorseless', 'cheats', 'choke', 'stifle', 'mourner', 'non-confidence', 'murder', 'snobby', 'shit', 'ineffectiveness', 'uncouth', 'capriciously', 'myth', 'brutalizing', 'disturbance', 'embroiled', 'frustratingly', 'aspersions', 'embarrassment', 'fret', 'missed', 'overdone', 'rebuke', 'ruffian', 'dissonantly', 'wretchedly', 'lunatic', 'mushy', 'indecisive', 'commotion', 'lunaticism', 'acerbate', 'lackluster', 'resentful', 'rile', 'horrified', 'quibbles', 'dismally', 'impending', 'gauche', 'downside', 'infamy', 'irate', 'jittery', 'admonish', 'dire', 'mistakes', 'detest', 'unimportant', 'disavowal', 'absurd', 'blather', 'counterproductive', 'indiscretion', 'afflict', 'affront', 'wrip', 'blackmail', 'fidget', 'divisiveness', 'inactive', 'insult', 'thirst', 'demeaning', 'lovelorn', 'unorthodox', 'catastrophic', 'wrong', 'blundering', 'scarcity', 'shabby', 'scars', 'dispirited', 'exorbitantly', 'greedy', 'jerk', 'backbite', 'antagonize', 'disvalue', 'relentlessness', 'apologists', 'threat', 'feebleminded', 'hater', 'sarcastically', 'creaks', 'forbidden', 'pertinacity', 'tricked', 'boiling', 'issue', 'volatile', 'dwindling', 'falsely', 'accusingly', 'fatty', 'implausibly', 'infidel', 'suicidal', 'indignation', 'disprove', 'fell', 'defy', 'dirtbags', 'harshly', 'concede', 'glare', 'raped', 'fatuously', 'object', 'calumniation', 'irrationals', 'pains', 'picky', 'trapped', 'splatter', 'unprepared', 'failures', 'exasperating', 'dissonance', 'divergent', 'fevers', 'mobster', 'expulse', 'roadblocks', 'coarse', 'distressed', 'contempt', 'lethargic', 'perplex', 'strain', 'unnerve', 'usurp', 'chafe', 'inevitably', 'contrariness', 'failure', 'disagreeable', 'deprecate', 'impotent', 'messing', 'drab', 'sunder', 'imposition', 'unconvincing', 'unlawful', 'babble', 'defiler', 'dismalness', 'besiege', 'douchebags', 'strenuous', 'damaged', 'avaricious', 'fierce', 'condescending', 'unachievable', 'inconsiderate', 'admonishment', 'grouchy', 'incoherently', 'break-up', 'ridiculous', 'lambast', 'aggressor', 'despicably', 'slogging', 'slap', 'vomits', 'dies', 'displaced', 'erode', 'futilely', 'hedonistic', 'hurted', 'shaky', 'disapproval', 'muddle', 'adamantly', 'fatuous', 'contemptuously', 'traumatic', 'unjustified', 'declines', 'jerky', 'perfidious', 'contortions', 'unforgiving', 'craziness', 'indeterminably', 'bogus', 'disturbingly', 'baffle', 'disabled', 'audacity', 'dispensable', 'expel', 'calumny', 'ill-fated', 'partiality', 'uneasily', 'nefariously', 'perplexed', 'qualms', 'demonize', 'brute', 'deceitful', 'shame', 'direness', 'vengeance', 'shockingly', 'falsehood', 'inaccurate', 'defiant', 'dumped', 'mangling', 'unattractive', 'alarm', 'craps', 'bores', 'lech', 'smudge', 'shatter', 'sunk', 'insincerity', 'buckle', 'crazily', 'poisonously', 'deadweight', 'haughtily', 'erratically', 'fibber', 'unwise', 'cataclysmal', 'unusual', 'conspiratorial', 'agony', 'douchbag', 'consternation', 'swindle', 'whimper', 'filth', 'dragged', 'savagery', 'senile', 'solemn', 'exasperatingly', 'caustic', 'errors', 'negatives', 'disparaging', 'anti-israeli', 'despot', 'traitor', 'whine', 'draconic', 'dislikes', 'loveless', 'rigid', 'skittish', 'tormented', 'limits', 'expropriation', 'onerous', 'over-acted', 'rascal', 'sickeningly', 'squeak', 'tragically', 'scrambling', 'upsettingly', 'dissatisfied', 'lied', 'lugubrious', 'depravedly', 'falling', 'defrauding', 'tiring', 'avenge', 'wobbles', 'jealous', 'ignominy', 'quash', 'scratchy', 'resignation', 'bemused', 'deject', 'insults', 'discrepant', 'unemployed', 'anxiously', 'standstill', 'cussed', 'dick', 'nasty', 'decry', 'sting', 'hostilities', 'decrepitude', 'repugn', 'plunder', 'insolent', 'irking', 'mockery', 'obstinate', 'warned', 'slowest', 'tedious', 'stink', 'exhort', 'slooow', 'exhausted', 'inglorious', 'crook', 'defensive', 'helplessly', 'hiss', 'onslaught', 'plunderer', 'savage', 'backache', 'darker', 'inflationary', 'unreliability', 'scandalous', 'bluring', 'banalize', 'blame', 'darkness', 'sad', 'disdain', 'dissolute', 'combative', 'ill-favored', 'ignominiously', 'misguidance', 'frustrated', 'trivialize', 'shipwreck', 'exclusion', 'fuck', 'obscurity', 'cartoonish', 'faults', 'hell-bent', 'wrath', 'deviate', 'immorally', 'parody', 'falls', 'pervasive', 'abolish', 'gibber', 'jobless', 'ruinous', 'sickness', 'dubious', 'irksomely', 'skulk', 'job-killing', 'instigate', 'primitive', 'wild', 'scoff', 'devastate', 'uncivil', 'heretic', 'blindingly', 'risky', 'hysteria', 'indignity', 'rip-off', 'substandard', 'sidetracked', 'unwatchable', 'isolation', 'alienate', 'pretend', 'impasse', 'contradictory', 'debatable', 'overwhelm', 'setbacks', 'rust', 'menacingly', 'flawed', 'horrifies', 'less-developed', 'reprehensive', 'regress', 'vindictively', 'lame-duck', 'misinterpret', 'barbarity', 'bull----', 'insulting', 'retreat', 'objection', 'merciless', 'measly', 'nastiness', 'uncreative', 'finicky', 'needless', 'fundamentalism', 'flake', 'impurity', 'rip', 'abscond', 'brood', 'refused', 'flareup', 'nepotism', 'damnably', 'culprit', 'lascivious', 'wanton', 'fetid', 'frenetically', 'heartbreaking', 'distrustful', 'grumpish', 'inexperience', 'inexpertly', 'interruptions', 'disapointing', 'irresolute', 'biases', 'relentless', 'smoke', 'picketing', 'untruthful', 'anomalous', 'invisible', 'enmity', 'tortures', 'barbarian', 'embroil', 'bewilderment', 'unimaginable', 'stubborn', 'warp', 'disregardful', 'flabbergast', 'stun', 'terrorize', 'downheartedly', 'discompose', 'misaligned', 'congestion', 'unjust', 'hated', 'conceit', 'incessant', 'smugly', 'handicapped', 'languorous', 'shambles', 'calumniously', 'critics', 'fathomless', 'obstructing', 'strident', 'disclaim', 'squeals', 'deficiencies', 'outbreak', 'abrade', 'barbarously', 'feckless', 'irrepressible', 'perplexity', 'battering', 'kaput', 'muscle-flexing', 'doggedly', 'womanizing', 'impatience', 'aches', 'detestably', 'amputate', 'dissent', 'perfidity', 'invidious', 'stark', 'waning', 'loose', 'despairing', 'quack', 'dissatisfaction', 'beggar', 'discouraging', 'sufferers', 'negation', 'villianously', 'disorder', 'drastically', 'conflicted', 'irredeemable', 'killer', 'distorts', 'tacky', 'delaying', 'destains', 'layoff-happy', 'drags', 'confused', 'tumultuous', 'unexpected', 'overthrows', 'bestial', 'interferes', 'hatred', 'panic', 'disconcertingly', 'ignoble', 'accuse', 'congested', 'impossibly', 'despair', 'weirdly', 'hissed', 'bloodshed', 'controversy', 'drippy', 'lecher', 'wripping', 'daunting', 'illegally', 'scowl', 'bulkiness', 'redundancy', 'detracts', 'skittishly', 'egregious', 'toughness', 'jarring', 'rebellious', 'hazard', 'snare', 'subversive', 'hardened', 'smells', 'bored', 'devilish', 'insensitively', 'berate', 'protested', 'aggressiveness', 'tense', 'rantingly', 'morons', 'forlorn', 'inconsistence', 'outmoded', 'crushed', 'stutters', 'rattle', 'crazy', 'bumps', 'pry', 'defamatory', 'sickening', 'uncollectible', 'backbiting', 'discontinued', 'irrecoverably', 'dusty', 'perturb', 'unfulfilled', 'encroachment', 'derogatory', 'rattles', 'totalitarian', 'cunts', 'pedantic', 'smell', 'spilling', 'turmoil', 'lone', 'scar', 'tanked', 'unknown', 'jutters', 'foolish', 'dunce', 'enraging', 'downgrade', 'denunciations', 'fracture', 'ineffective', 'shemale', 'soapy', 'grating', 'subvert', 'uneasiness', 'uneventful', 'admonishingly', 'capitulate', 'deadbeat', 'fails', 'bloated', 'gabble', 'infuriated', 'throbs', 'dismay', 'lapsed', 'sinister', 'pugnaciously', 'bereavement', 'crummy', 'crack', 'discomfort', 'screwed-up', 'tin-y', 'autocratic', 'dissension', 'redundant', 'avarice', 'irresolvable', 'disquiet', 'precipitous', 'disloyal', 'hardliners', 'sensationalize', 'defective', 'hegemonistic', 'absentee', 'uncivilized', 'misinformed', 'anxious', 'overstated', 'unprove', 'slack', 'provoke', 'wrinkled', 'incongruously', 'second-tier', 'chill', 'overacted', 'pettifog', 'terribly', 'inaudible', 'extravagance', 'scandals', 'shunned', 'harmful', 'randomly', 'stole', 'unkind', 'sleazy', 'ludicrous', 'discordance', 'offend', 'tumbles', 'unrelenting', 'scratch', 'flees', 'bleakly', 'flair', 'spooky', 'disloyalty', 'extravagantly', 'rude', 'cuplrit', 'tainted', 'degradingly', 'glower', 'offending', 'shortsightedness', 'worse', 'arbitrary', 'frightfully', 'scorching', 'self-interested', 'unexplained', 'antiquated', 'disgustingly', 'crude', 'opportunistic', 'flicering', 'friggin', 'laughable', 'stodgy', 'castrated', 'cringe', 'dullard', 'ramshackle', 'wallow', 'fatigue', 'crashed', 'pricey', 'hamper', 'fallaciousness', 'unthinkably', 'martyrdom-seeking', 'zap', 'intimidation', 'costlier', 'lies', 'hassle', 'mystify', 'occluding', 'crippled', 'freezing', 'mendacious', 'shrug', 'frustrations', 'suspicions', 'unsteady', 'defiance', 'disillusion', 'needy', 'prattle', 'nebulous', 'misjudge', 'mordantly', 'volatility', 'repudiate', 'insidiously', 'irksome', 'belittle', 'audaciousness', 'childish', 'dropout', 'hatefully', 'feign', 'racism', 'dictator', 'humid', 'flabbergasted', 'overstates', 'pugnacious', 'prohibit', 'doldrums', 'restrict', 'irritated', 'mistrust', 'proprietary', 'contort', 'intoxicate', 'taunt', 'idiocy', 'virulence', 'adulterate', 'grumpiest', 'immoderately', 'overstatements', 'subjugate', 'evils', 'banal', 'misaligns', 'fucking', 'acrimonious', 'cliched', 'drained', 'collusion', 'rue', 'scare', 'snappish', 'mishap', 'thrash', 'itch', 'unreliable', 'burn', 'pessimistic', 'mischievous', 'perverted', 'disrespectable', 'cliche', 'oppress', 'truant', 'inaccuracies', 'injudicious', 'passiveness', 'depressing', 'murderous', 'prosecute', 'crashes', 'refuting', 'poorest', 'punitive', 'acrimoniously', 'kooky', 'anemic', 'disaffected', 'dishonesty', 'insensible', 'punish', 'corrosions', 'spews', 'lawless', 'hustler', 'ugly', 'steals', 'curt', 'flagrantly', 'reprimand', 'err', 'funnily', 'incautious', 'disgruntled', 'panders', 'expensive', 'anger', 'crime', 'crabby', 'debaser', 'demoralize', 'garish', 'glitches', 'cannibal', 'spoilled', 'emphatic', 'gasp', 'struck', 'vain', 'dejected', 'horrify', 'lecherous', 'thoughtlessly', 'egotism', 'awkwardness', 'kills', 'excuse', 'deplorable', 'frightening', 'ill-advised', 'obstacle', 'runaway', 'foul', 'sloww', 'hateful', 'exploit', 'unjustifiably', 'infuriating', 'venomous', 'obliterate', 'irrational', 'braggart', 'farfetched', 'bitingly', 'annihilation', 'damn', 'diatribe', 'misbegotten', 'giddy', 'deadly', 'implication', 'snobs', 'disoriented', 'immobilized', 'stifling', 'spookily', 'disappointingly', 'damages', 'adversary', 'acerbic', 'careless', 'halfheartedly', 'mists', 'pessimism', 'prejudices', 'misbehave', 'savaged', 'unsavory', 'vague', 'stew', 'run-down', 'bleakness', 'mangled', 'poverty', 'bleed', 'perversion', 'dread', 'ghetto', 'obsessively', 'stooge', 'delusions', 'violator', 'breaks', 'losing', 'sin', 'wickedness', 'drips', 'full-blown', 'stumbles', 'frazzle', 'grief', 'hypocrisy', 'dragging', 'breakup', 'confounding', 'entanglement', 'starkly', 'incendiary', 'pestilent', 'rejection', 'polarisation', 'desperately', 'invader', 'harasses', 'danger', 'demonic', 'frenzied', 'acrid', 'repression', 'disagreement', 'soreness', 'fickle', 'foolhardy', 'slaves', 'unhelpful', 'dark', 'shamefulness', 'bruised', 'drop-out', 'implode', 'bothered', 'radicals', 'neglect', 'bondage', 'disaster', 'engulf', 'jealousy', 'letch', 'inordinately', 'drunken', 'askance', 'betrayal', 'fusty', 'unnatural', 'uproar', 'dissembler', 'obstruction', 'hasseling', 'outcast', 'preoccupy', 'condemns', 'hoard', 'disunity', 'troubles', 'overloaded', 'marginally', 'unscrupulous', 'inaccurately', 'hawkish', 'loathly', 'intermittent', 'lengthy', 'condescend', 'lamentable', 'maltreatment', 'hostage', 'imposers', 'overreach', 'revenge', 'worthless', 'inequality', 'inimical', 'unskilled', 'destructive', 'blameworthy', 'impinge', 'debase', 'rocky', 'balk', 'scandels', 'exorbitant', 'shortcoming', 'vindictiveness', 'frighten', 'coercion', 'vainly', 'extinguish', 'plebeian', 'regrets', 'rumor', 'pique', 'heinous', 'adulteration', 'ail', 'contemptible', 'sorrow', 'over-valuation', 'unleash', 'panicky', 'virulent', 'loathe', 'contention', 'hell', 'set-up', 'felonious', 'sneaky', 'undercutting', 'junkyard', 'pitiable', 'lull', 'rape', 'uncomfortable', 'second-class', 'carp', 'hectic', 'wince', 'harbors', 'dismaying', 'impunity', 'mulish', 'regretted', 'madman', 'contrived', 'illogically', 'depraved', 'scuffs', 'conflicting', 'inequalities', 'satirical', 'scarce', 'squealing', 'pigs', 'tiringly', 'desiccate', 'oppositions', 'negligence', 'destabilisation', 'poisonous', 'sarcastic', 'thwart', 'fiction', 'thumbs-down', 'bitter', 'dissenter', 'offensiveness', 'paralize', 'dirts', 'halfhearted', 'exagerate', 'inelegance', 'convoluted', 'detests', 'instigator', 'weed', 'mundane', 'acrimony', 'calumnies', 'wearisome', 'traitorously', 'perversity', 'bleeds', 'horrifys', 'pratfall', 'shimmer', 'cringes', 'lewdly', 'excuses', 'miscalculation', 'mystery', 'invalidate', 'faze', 'fleeing', 'sag', 'demoralizingly', 'self-defeating', 'shamefully', 'burns', 'nonresponsive', 'misunderstandings', 'pretense', 'iniquity', 'tetchily', 'drastic', 'unspecified', 'upheaval', 'incredulously', 'silly', 'weak', 'crueler', 'cuss', 'impure', 'indoctrinate', 'odor', 'falter', 'slog', 'split', 'perverts', 'outraged', 'pales', 'oddest', 'concerned', 'hypocritically', 'miscalculate', 'exploitation', 'fooled', 'pity', 'irrecoverable', 'brutish', 'unavailable', 'bothersome', 'discriminatory', 'downfall', 'occlude', 'vibrate', 'creep', 'hurts', 'bowdlerize', 'resentment', 'unlucky', 'upseting', 'craven', 'misreading', 'felon', 'infected', 'insubstantially', 'manic', 'nonsense', 'scrambles', 'swagger', 'timidly', 'tumble', 'pathetically', 'compulsive', 'over-balanced', 'disastrously', 'bumpping', 'inhospitable', 'pretentious', 'insufferably', 'pugnacity', 'avalanche', 'haggard', 'fainthearted', 'apprehension', 'hazardous', 'disadvantaged', 'rumours', 'gripe', 'mope', 'concens', 'disavow', 'madden', 'noises', 'gimmicking', 'unraveled', 'frozen', 'sever', 'jeer', 'lacking', 'lifeless', 'tyranny', 'violation', 'murderously', 'horrendous', 'infections', 'fabrication', 'misleading', 'cramping', 'glib', 'declining', 'violate', 'spookiest', 'inconsolably', 'exagerated', 'mawkishness', 'unsustainable', 'clogs', 'stringent', 'bereft', 'atrophy', 'one-sided', 'tortuous', 'audacious', 'discouragement', 'suffering', 'sh*t', 'subpoenas', 'beware', 'scarier', 'impede', 'gaff', 'rejected', 'execrate', 'immodest', 'sluggish', 'overzealous', 'thumb-down', 'lose', 'deter', 'hallucination', 'inconstant', 'picketed', 'inadequate', 'unfriendly', 'indistinguishable', 'hypocrites', 'unsettlingly', 'dismayed', 'objectionable', 'uninsured', 'discourteous', 'taboo', 'bungle', 'backward', 'repulsiveness', 'undocumented', 'incivility', 'aweful', 'contamination', 'exaggerate', 'trick', 'clique', 'barbarous', 'diatribes', 'distrusting', 'gruff', 'misread', 'repugnant', 'instability', 'cronyism', 'suppression', 'trash', 'unjustly', 'malaise', 'rot', 'desperation', 'hopelessly', 'cheated', 'deaf', 'belie', 'pillory', 'aching', 'life-threatening', 'lukewarm', 'presumptuously', 'self-interest', 'inconsequently', 'somber', 'denunciate', 'expunge', 'perversely', 'absent-minded', 'lethal', 'sardonic', 'sued', 'jeering', 'disown', 'sorrowfully', 'unclear', 'assassinate', 'deploring', 'harpy', 'impatiently', 'bleeding', 'intractable', 'inappropriately', 'accost', 'bungling', 'intrusive', 'sagged', 'distressingly', 'hassled', 'imminence', 'escapade', 'irreformable', 'solicitude', 'blah', 'sue', 'petrified', 'aghast', 'cloud', 'crafty', 'unnoticed', 'forlornly', 'unqualified', 'boredom', 'enemies', 'falsify', 'worried', 'undependable', 'refuse', 'puzzled', 'wrestle', 'authoritarian', 'carelessness', 'condemnation', 'gloomy', 'grimace', 'undersized', 'unfaithfully', 'deception', 'hassles', 'bother', 'revulsive', 'bomb', 'enflame', 'blasted', 'joke', 'lazy', 'ruined', 'rusts', 'shadowy', 'sugar-coated', 'wasted', 'fume', 'overact', 'stressful', 'death', 'debauch', 'dangerous', 'disingenuous', 'bravado', 'revengeful', 'tepid', 'uncomfy', 'decadence', 'oddities', 'bug', 'emasculate', 'dawdle', 'harms', 'toxic', 'embattled', 'inept', 'preposterous', 'appallingly', 'swamped', 'gullible', 'slut', 'tingled', 'overthrow', 'unwillingness', 'limit', 'immovable', 'jitter', 'coupists', 'crashing', 'prejudge', 'burden', 'commotions', 'crooked', 'obscene', 'ominously', 'refutes', 'tentatively', 'tease', 'insulted', 'decayed', 'nettlesome', 'displace', 'disordered', 'rivalry', 'misgivings', 'racists', 'rupture', 'spite', 'mischief', 'laconic', 'hardheaded', 'aborted', 'stupidly', 'unuseably', 'callous', 'illiterate', 'shun', 'demise', 'snagged', 'indoctrination', 'strife', 'surrender', 'monstrosities', 'quitter', 'friction', 'slur', 'raging', 'unacceptably', 'eccentricity', 'strictly', 'lechery', 'heck', 'shortsighted', 'fruitlessly', 'sorely', 'regretful', 'breach', 'torrent', 'direly', 'pest', 'precarious', 'misapprehend', 'musty', 'protests', 'facetiously', 'carnage', 'draining', 'denounce', 'ill-mannered', 'orphan', 'overzelous', 'chunky', 'inflexible', 'manipulation', 'peeled', 'sneakily', 'tramp', 'manipulate', 'tentative', 'cataclysmic', 'radicalization', 'odder', 'allergy', 'fabricate', 'harridan', 'haunting', 'skepticism', 'neglected', 'unworkable', 'smelling', 'victimize', 'doubts', 'payback', 'absence', 'alarming', 'startlingly', 'incomprehension', 'insupportable', 'farce', 'enjoin', 'brutalities', 'restlessness', 'scorchingly', 'slanders', 'snappishly', 'dissatisfying', 'flighty', 'vibrated', 'break-ups', 'unproductive', 'protesting', 'offender', 'procrastination', 'complacent', 'creaking', 'imminently', 'belittled', 'prick', 'frigging', 'bankrupt', 'polution', 'disarray', 'unsafe', 'hopeless', 'penalize', 'farcical', 'officious', 'mistrustful', 'loathsomely', 'shamelessly', 'inundated', 'slug', 'lackadaisical', 'confusing', 'inefficacy', 'brutalising', 'stuck', 'menial', 'fatefully', 'disconcerted', 'teasingly', 'exasperate', 'clamorous', 'damned', 'inaccuracy', 'disproportionate', 'bullshit', 'fallout', 'defects', 'flagrant', 'simplistic', 'tauntingly', 'strange', 'scourge', 'spurn', 'brazen', 'derisively', 'dissuade', 'imbroglio', 'unwanted', 'culpable', 'deceptive', 'killjoy', 'scummy', 'drunkard', 'stunted', 'confrontational', 'agonizing', 'overwhelmed', 'ugliness', 'harried', 'disses', 'expropriate', 'unfairly', 'detract', 'paralyzed', 'weep', 'licentiousness', 'slanderer', 'ineloquently', 'hype', 'loathsome', 'spoils', 'abominate', 'timidness', 'fright', 'depression', 'contravene', 'flairs', 'flirty', 'confrontation', 'enfeeble', 'disagreeably', 'recant', 'rhetorical', 'disturbing', 'unproves', 'crumples', 'downer', 'gawk', 'trashed', 'perturbed', 'dishearteningly', 'contaminate', 'illogical', 'notoriously', 'dissed', 'lackeys', 'overlook', 'omission', 'exterminate', 'inadequacy', 'disappointment', 'flee', 'irreversible', 'screwy', 'spiteful', 'transgression', 'unaccessible', 'languid', 'repugnance', 'disagreeing', 'deride', 'delay', 'rumbling', 'undefined', 'scathingly', 'despondently', 'stress', 'scandel', 'rejecting', 'fissures', 'pimple', 'treachery', 'panicked', 'leech', 'resistance', 'stagnate', 'opposition', 'dissonant', 'difficulty', 'irritable', 'suffers', 'apocalypse', 'bicker', 'lambaste', 'extremist', 'inordinate', 'embarrassing', 'toil', 'startling', 'scarily', 'vex', 'inequitably', 'maniacal', 'ineffectualness', 'dirt', 'forceful', 'outbursts', 'stumped', 'muddy', 'crush', 'indelicate', 'scarred', 'doubtful', 'unlicensed', 'inane', 'unkindly', 'self-serving', 'tetchy', 'deprave', 'snarky', 'last-ditch', 'wily', 'snarl', 'unauthentic', 'aborts', 'attacks', 'frenetic', 'loot', 'peculiar', 'unfinished', 'hotbeds', 'lure', 'unlamentable', 'atrocities', 'blandish', 'irks', 'deficiency', 'worryingly', 'averse', 'covetous', 'ignorant', 'die', 'dungeon', 'heedless', 'severe', 'laggy', 'commonplace', 'sneer', 'chintzy', 'disorderly', 'nefarious', 'diffidence', 'denied', 'prejudicial', 'smudges', 'subversion', 'unwieldy', 'disrespectablity', 'prejudice', 'unfortunately', 'inapt', 'pricier', 'tyrannical', 'controversial', 'brashness', 'glut', 'repressive', 'unsettling', 'insensitivity', 'knife', 'overrun', 'woefully', 'latency', 'vengeful', 'overwhelms', 'flickers', 'emergency', 'distress', 'inflammatory', 'erroneously', 'furious', 'devastating', 'indeterminable', 'invidiousness', 'maddening', 'malice', 'disturbed', 'foully', 'jeeringly', 'delirious', 'disinclined', 'stinks', 'glitch', 'beguile', 'crowdedness', 'cheating', 'qualm', 'ambush', 'fat', 'repetitive', 'undermines', 'capriciousness', 'blunder', 'enraged', 'bitterness', 'freezes', 'finagle', 'unproved', 'blurry', 'intefere', 'clogged', 'threatening', 'endanger', 'spew', 'lost', 'puzzlement', 'darken', 'fail', 'concerns', 'insignificantly', 'paradoxically', 'oversight', 'cracks', 'excruciating', 'bruising', 'demean', 'indifference', 'infamously', 'fallacy', 'melodramatically', 'overturn', 'steal', 'inconsistencies', 'unhappily', 'backwood', 'irragularity', 'plot', 'irrationally', 'sketchy', 'superstition', 'bunk', 'blurt', 'damaging', 'dinky', 'debts', 'haphazard', 'egotistically', 'imperfect', 'adversarial', 'extremism', 'inflict', 'lacked', 'disinterest', 'fractious', 'miser', 'outsider', 'shark', 'undercut', 'scrambled', 'venom', 'vociferous', 'idle', 'prison', 'feint', 'goon', 'genocide', 'superficially', 'mischievously', 'recklessness', 'inextricably', 'dents', 'doom', 'risk', 'slogged', 'ugh', 'casualty', 'rigidness', 'frustration', 'perverse', 'uneconomical', 'trample', 'confess', 'invective', 'tenuously', 'sullen', 'warily', 'fretful', 'laughingstock', 'hestitant', 'subjugation', 'impulsively', 'inflated', 'languor', 'prohibitive', 'spookier', 'propaganda', 'annoyed', 'painful', 'chastise', 'creeps', 'prohibitively', 'disbelief', 'delusion', 'screw-up', 'anti-white', 'melodramatic', 'demoralizing', 'haters', 'injustice', 'misrepresent', 'aspersion', 'tangled', 'fragile', 'insubordinate', 'disgustedly', 'warped', 'worry', 'illness', 'funny', 'rusty', 'selfishly', 'sags', 'allege', 'insufferable', 'baffled', 'blindside', 'mysteriously', 'god-awful', 'snobbish', 'disasterous', 'distasteful', 'illegitimate', 'intolerance', 'losers', 'massacre', 'abruptly', 'incorrigible', 'rollercoaster', 'turbulent', 'immaterial', 'dropouts', 'hard-line', 'diametrically', 'irked', 'scariest', 'upsetting', 'effigy', 'autocrat', 'beseech', 'belabor', 'impenitent', 'faltered', 'maniac', 'embarrassingly', 'despotism', 'denies', 'punch', 'tragedy', 'mournful', 'radically', 'unintelligible', 'miss', 'incredulous', 'damnation', 'lurid', 'noisy', 'numb', 'imperfections', 'outburst', 'sloppy', 'stressfully', 'confuse', 'protest', 'hothead', 'abuse', 'malicious', 'misbecoming', 'leaky', 'prevaricate', 'disagree', 'flickering', 'discomfit', 'disliked', 'misguide', 'scornful', 'revulsion', 'effrontery', 'weaken', 'hardships', 'dismal', 'coerce', 'spoon-fed', 'election-rigger', 'poison', 'uproariously', 'wrest', 'irritating', 'repulsing', 'treacherously', 'forfeit', 'intolerablely', 'bulkier', 'misalign', 'catastrophies', 'degeneration', 'negative', 'unuseable', 'selfish', 'devilry', 'injustices', 'violators', 'languorously', 'queer', 'self-humiliation', 'drunk', 'obscenely', 'glibly', 'disquietude', 'dizzy', 'assail', 'jeers', 'massacres', 'failed', 'ridicule', 'desecrate', 'disconsolation', 'offensive', 'diss', 'rhapsodize', 'demolish', 'strangest', 'pinch', 'offence', 'crooks', 'achey', 'testily', 'precipitate', 'selfishness', 'capsize', 'furor', 'stealing', 'vileness', 'hedge', 'incompatability', 'unjustifiable', 'goofy', 'destroyer', 'devoid', 'catastrophe', 'back-logged', 'insincere', 'detracted', 'calamity', 'inconsequential', 'abusive', 'bashful', 'unhappy', 'defect', 'uncooperative', 'hardliner', 'superfluous', 'leakages', 'stalls', 'sham', 'unusually', 'unwisely', 'grouch', 'unwarranted', 'overheat', 'bewilder', 'begging', 'harangue', 'headache', 'fruitless', 'damage', 'bash', 'denunciation', 'guile', 'unethical', 'debility', 'banishment', 'pitiless', 'ill-designed', 'cannibalize', 'ghastly', 'nervous', 'scaly', 'disgusting', 'unfavorable', 'inadequately', 'infamous', 'hopelessness', 'undesirable', 'draconian', 'dejectedly', 'dastardly', 'elimination', 'wickedly', 'bedlam', 'belittling', 'mispronounce', 'smoulder', 'traumatically', 'ungovernable', 'wounds', 'timidity', 'conspiracies', 'cumbersome', 'drains', 'crowded', 'humming', 'inhibit', 'grievously', 'abomination', 'irrelevance', 'ruffle', 'ineptly', 'remorselessness', 'unviewable', 'instable', 'prik', 'distraughtness', 'dump', '2-faced', 'pickets', 'inoperable', 'blow', 'unproven', 'puny', 'fear', 'trivial', 'grumpier', 'problems', 'oppose', 'irritably', 'perplexing', 'unpredictable', 'smokescreen', 'trap', 'paucity', 'hysteric', 'squander', 'weariness', 'deteriorating', 'wicked', 'lag', 'exorbitantance', 'skeptically', 'disobedient', 'unruly', 'menacing', 'incognizant', 'mashed', 'ravage', 'liar', 'guilt', 'ironic', 'anarchy', 'discouragingly', 'uneven', 'audiciously', 'disgraced', 'impolitic', 'kook', 'confound', 'overshadow', 'wobbled', 'offensively', 'gutless', 'backaches', 'reckless', 'slanderously', 'interrupt', 'gripes', 'denial', 'provocative', 'partisans', 'complains', 'immoral', 'screech', 'undissolved', 'imprudent', 'dilapidated', 'gimmicky', 'insidious', 'stereotype', 'uninformed', 'regression', 'lawbreaker', 'prideful', 'coward', 'disrespecting', 'disturb', 'nemesis', 'cataclysmically', 'obtuse', 'oversimplified', 'underpowered', 'brimstone', 'wreaked', 'revengefully', 'ultimatum', 'deluge', 'devilishly', 'bewitch', 'cautionary', 'backwoods', 'bombardment', 'anti-', 'challenging', 'curse', 'perfunctory', 'dissemble', 'maddeningly', 'repulsive', 'sinful', 'swipe', 'fears', 'biased', 'destitute', 'mortified', 'ailment', 'torture', 'imperialist', 'bum', 'miserly', 'smelled', 'stammer', 'jam', 'fury', 'irredeemably', 'delirium', 'hoodium', 'figurehead', 'facetious', 'diabolically', 'spitefulness', 'foolishness', 'inveigle', 'abuses', 'annoys', 'fatally', 'fiendish', 'over-awe', 'perilously', 'procrastinate', 'plagiarize', 'transgress', 'refusing', 'disaccord', 'shameless', 'bigotries', 'subordinate', 'diabolical', 'dupe', 'impolitely', 'bane', 'cranky', 'dizzingly', 'flimsy', 'pertinaciously', 'corrosion', 'unsecure', 'overzealously', 'explosive', 'cocky', 'slumping', 'left-leaning', 'inescapable', 'ill-treatment', 'lament', 'vicious', 'succumb', 'oversize', 'accuses', 'swollen', 'frantic', 'grievances', 'insinuate', 'gracelessly', 'jumpy', 'broke', 'hurt', 'sorry', 'inessential', 'nightmare', 'thankless', 'insurrection', 'rampant', 'detriment', 'inconsistent', 'paranoia', 'disrepute', 'impediment', 'ire', 'provocation', 'hates', 'unobserved', 'impractical', 'ineloquent', 'revolting', 'desititute', 'commiserate', 'rifts', 'reprehensibly', 'setback', 'insupportably', 'lonely', 'smallish', 'snag', 'fleeting', 'reviled', 'insinuating', 'lurking', 'tangle', 'downhearted', 'misconceptions', 'vehemently', 'suffered', 'frigid', 'spook', 'checkered', 'hostility', 'weird', 'illusion', 'hallucinate', 'rage', 'absurdity', 'abysmal', 'disconsolate', 'mislike', 'shortchange', 'untenable', 'distract', 'impetuously', 'wariness', 'desert', 'utterly', 'disallow', 'breaking', 'crumple', 'unconfirmed', 'crisis', 'dishonestly', 'despoil', 'frenzy', 'throb', 'inefficient', 'evade', 'incongruous', 'pitilessly', 'vomit', 'daunt', 'unipolar', 'caricature', 'incense', 'slashing', 'inexorably', 'interference', 'gainsayer', 'ached', 'hurtful', 'accidental', 'pointlessly', 'feverish', 'inexcusably', 'peril', 'unspeakable', 'imprudence', 'huckster', 'shocking', 'aggravation', 'smelt', 'relapse', 'messed', 'dreary', 'fiend', 'lacks', 'obsessive', 'heartbreakingly', 'disgrace', 'infection', 'impious', 'slaughtered', 'anti-proliferation', 'fatalistic', 'moronic', 'troublemaker', 'woe', 'crap', 'lame', 'evildoer', 'dilly-dally', 'inconsiderately', 'nitpick', 'top-heavy', 'inaction', 'cheaply', 'fist', 'tricky', 'semi-retarded', 'harm', 'tank', 'displeasing', 'paupers', 'fallacious', 'afraid', 'inconvenience', 'grotesque', 'ridiculously', 'mortifying', 'smelly', 'vice', 'sucks', 'buzzing', 'inferior', 'battered', 'lawlessness', 'sadden', 'annoy', 'outcry', 'slowed', 'appalling', 'excessively', 'indiscriminating', 'insular', 'matte', 'short-lived', 'evasive', 'fleer', 'pretentiously', 'indiscreetly', 'louder', 'notoriety', 'incompatibility', 'blockhead', 'chide', 'languish', 'sticky', 'despised', 'ineffectually', 'brazenness', 'dismissively', 'ambiguity', 'manipulators', 'fustigate', 'frail', 'relentlessly', 'unthinkable', 'despondence', 'lagged', 'barbaric', 'gloatingly', 'jeopardy', 'harassment', 'expired', 'baffling', 'bastard', 'biting', 'ludicrously', 'humiliating', 'liable', 'calumniate', 'collude', 'agonize', 'd*mn', 'mispronounced', 'addicted', 'ploy', 'unacceptable', 'kill', 'hairloss', 'extraneous', 'filthy', 'equivocal', 'gossip', 'immature', 'juddering', 'spoonfed', 'nightmarish', 'unforeseen', 'fictional', 'stale', 'fugitive', 'bombastic', 'grievance', 'loner', 'jealously', 'repulse', 'squeaks', 'destitution', 'foolishly', 'maliciousness', 'deviousness', 'refutation', 'trickery', 'angry', 'affliction', 'invalid', 'pompous', 'foe', 'indiscreet', 'retards', 'lying', 'ill-tempered', 'morbid', 'stubbornly', 'tempest', 'inconsolable', 'martyrdom', 'rough', 'imaginary', 'petty', 'murderer', 'midget', 'hollow', 'burdensome', 'indecency', 'overstatement', 'stereotypically', 'pessimistically', 'mire', 'squabbling', 'burning', 'gloom', 'confusion', 'devastatingly', 'bull****', 'deceitfully', 'disintegrate', 'dumping', 'mediocrity', 'mocked', 'smudging', 'harrow', 'monstrosity', 'lumpy', 'pointless', 'shake', 'sucked', 'stuttered', 'displease', 'stranger', 'villian', 'sneeringly', 'treasonous', 'devil', 'wobble', 'abort', 'disfavor', 'dreadful', 'disconsolately', 'altercation', 'disintegrated', 'hazy', 'mocking', 'recoil', 'repugnantly', 'sacrificed', 'sues', 'taut', 'ill-usage', 'idiotic', 'laughably', 'lewdness', 'sober', 'burdensomely', 'grind', 'morbidly', 'shamelessness', 'terror-genic', 'distorted', 'unpleasantries', 'touted', 'staid', 'starvation', 'doomed', 'overbalance', 'encroach', 'pokey', 'clunky', 'unaccustomed', 'explode', 'contemptuous', 'annoyance', 'unsuspecting', 'impeach', 'insurmountably', 'oppressors', 'dissocial', 'rants', 'smash', 'polluters', 'rash', 'tantrum', 'bearish', 'meltdown', 'imperfection', 'busts', 'overblown', 'destruction', 'twist', 'besmirch', 'slave', 'incompetence', 'cloudy', 'bewilderingly', 'thug', 'overweight', 'scornfully', 'franticly', 'inequities', 'detestable', 'mockeries', 'unmoved', 'indignantly', 'inefficiently', 'die-hard', 'unnaturally', 'alienation', 'fraudulent', 'ill-used', 'undignified', 'fuzzy', 'mistakenly', 'stinging', 'troubling', 'disappointments', 'ignorance', 'smug', 'riled', 'smother', 'knock', 'scramble', 'incoherence', 'stab', 'bothers', 'epidemic', 'virus', 'haze', 'obstinately', 'niggles', 'reproach', 'snob', 'clog', 'ill-defined', 'disconcerting', 'egomania', 'loophole', 'shoddy', 'imprecate', 'plaything', 'rabid', 'slow-moving', 'abused', 'aggression', 'tension', 'cold', 'ingrate', 'appalled', 'droop', 'travesty', 'reprove', 'fool', 'ineffectual', 'apathy', 'blab', 'apocalyptic', 'waste', 'inadvisable', 'infiltrators', 'spade', 'hoax', 'arduously', 'contend', 'disbeliever', 'plague', 'indeterminate', 'lethargy', 'berserk', 'ferocity', 'self-criticism', 'taunts', 'uncomfortably', 'rampage', 'confront', 'unusably', 'heretical', 'aggrieved', 'dissidents', 'conspirator', 'deplorably', 'graceless', 'haste', 'blasphemous', 'irretating', 'smudged', 'vexingly', 'barren', 'misunderstanding', 'threesome', 'blasphemy', 'subjected', 'moribund', 'stupidity', 'zealously', 'disorganized', 'sulk', 'concession', 'unable', 'refusal', 'snags', 'unaffordable', 'deplete', 'limitations', 'asunder', 'incomplete', 'omit', 'disarm', 'sardonically', 'obsess', 'brutal', 'conspiracy', 'macabre', 'mistake', 'inconveniently', 'malignant', 'whips', 'imperiously', 'cravenly', 'devastates', 'fanatical', 'bullies', 'futility', 'inelegant', 'confined', 'conceded', 'bashing', 'lapses', 'idiots', 'ridicules', 'dirty', 'cataclysm', 'irksomeness', 'opinionated', 'indiscriminate', 'pandemonium', 'poor', 'retaliatory', 'complication', 'despise', 'inexplainable', 'losses', 'corrupted', 'crushing', 'ruthless', 'get-rich', 'distaste', 'misses', 'haywire', 'jolt', 'misconception', 'broken-hearted', 'erase', 'prate', 'misbecome', 'extort', 'cruelty', 'guilty', 'idiotically', 'belated', 'disadvantage', 'mournfully', 'calamities', 'blatantly', 'improper', 'unyielding', 'madness', 'high-priced', 'despoiler', 'drain', 'failing', 'extremists', 'beg', 'incomparably', 'sty', 'hating', 'impudent', 'uproarous', 'infested', 'difficulties', 'shirker', 'corrupting', 'impossiblity', 'mindlessly', 'exhaustion', 'freaking', 'insinuation', 'embarrass', 'overplay', 'shrouded', 'wimpy', 'unlawfully', 'decadent', 'distrust', 'shady', 'whining', 'deviation', 'scams', 'harass', 'fatuity', 'retaliate', 'incessantly', 'gape', 'indecorum', 'unsettle', 'painfull', 'wary', 'goof', 'idiot', 'mocks', 'estranged', 'fat-cats', 'quarrel', 'swelling', 'ingratitude', 'mortification', 'fake', 'condemnable', 'glum', 'drag', 'seethe', 'alarmed', 'antagonism', 'blurs', 'dishonorablely', 'maladjusted', 'scream', 'disillusionment', 'debt', 'washed-out', 'decrepit', 'butcher', 'pertinacious', 'unlikely', 'erosion', 'anti-occupation', 'licentiously', 'hardball', 'stigmatize', 'mistaken', 'blind', 'tumbled', 'slumpping', 'dauntingly', 'issues', 'denying', 'long-time', 'maladjustment', 'untimely', 'arcane', 'unprofitable', 'overtaxed', 'caustically', 'bloody', 'taxing', 'exhorbitant', 'feeble', 'ragged', 'forsake', 'erroneous', 'longingly', 'discombobulate', 'irresponsibly', 'overwhelmingly', 'disruption', 'problematic', 'worrisome', 'insouciance', 'doddering', 'awfulness', 'impatient', 'tardy', 'slowwww', 'unfit', 'defiantly', 'disdained', 'quarrels', 'disoobedient', 'downcast', 'slowww', 'disingenuously', 'subservience', 'traped', 'disillusions', 'anarchistic', 'oversimplify', 'struggling', 'fallacies', 'vanity', 'immoderate', 'indifferent', 'burned', 'idiocies', 'threats', 'dehumanize', 'anti-us', 'nonexistent', 'overbearingly', 'struggles', 'tenderness', 'molest', 'flare', 'cowardly', 'inflammation', 'debilitating', 'suspicion', 'enemy', 'hack', 'moan', 'negativity', 'argumentative', 'droops', 'cheat', 'intolerable', 'reject', 'weaker', 'persecute', 'stunt', 'gimmicked', 'vagueness', 'imprecisely', 'bugging', 'frets', 'unorthodoxy', 'squeaky', 'bumped', 'pout', 'impertinent', 'vile', 'inconceivable', 'unfortunate', 'deformed', 'stringently', 'weakening', 'sanctimonious', 'imprison', 'disputed', 'dissatisfy', 'inexpiable', 'war-like', 'dejection', 'loss', 'resigned', 'insolently', 'puppet', 'zombie', 'aground', 'stigma', 'bitterly', 'desolately', 'grudging', 'over-priced', 'ostracize', 'galls', 'disgust', 'annoyingly', 'discourteously', 'defame', 'cruelly', 'detraction', 'profane', 'destroy', 'suffer', 'sloth', 'banish', 'disrespectfulness', 'uneasy', 'monstrous', 'rancor', 'unworthy', 'defile', 'oppressive', 'appal', 'abrupt', 'imprecision', 'humiliation', 'intrusion', 'vindictive', 'revert', 'cancer', 'chatterbox'}\n",
            "(15975, 9)\n"
          ]
        }
      ],
      "source": [
        "df = pd.read_csv('data (1).csv')\n",
        "with open('positive-words (1).txt', 'r') as file:\n",
        "    # Read the lines and strip whitespace (including newline characters)\n",
        "    positive_words = set([line.strip() for line in file])\n",
        "\n",
        "with open('negative-words (1).txt', 'r') as file:\n",
        "    # Read the lines and strip whitespace (including newline characters)\n",
        "    negative_words = set([line.strip() for line in file])\n",
        "\n",
        "# Print the list of words\n",
        "print(positive_words)\n",
        "print(negative_words)\n",
        "print(df.shape)"
      ]
    },
    {
      "cell_type": "markdown",
      "source": [
        "List of positive and negative words."
      ],
      "metadata": {
        "id": "Bt-shKPzoefe"
      }
    },
    {
      "cell_type": "code",
      "execution_count": null,
      "metadata": {
        "colab": {
          "base_uri": "https://localhost:8080/"
        },
        "id": "sRaFoLQbBQXY",
        "outputId": "2242a3cf-8df5-47e8-cc2c-4174282e55af"
      },
      "outputs": [
        {
          "output_type": "stream",
          "name": "stderr",
          "text": [
            "[nltk_data] Downloading package punkt to /root/nltk_data...\n",
            "[nltk_data]   Unzipping tokenizers/punkt.zip.\n"
          ]
        }
      ],
      "source": [
        "import nltk\n",
        "nltk.download('punkt')\n",
        "from nltk.tokenize import word_tokenize\n"
      ]
    },
    {
      "cell_type": "code",
      "execution_count": null,
      "metadata": {
        "id": "yf0AWvNACv1l"
      },
      "outputs": [],
      "source": [
        "\n",
        "words = list(positive_words.union(negative_words))\n",
        "\n",
        "# Create TfidfVectorizer with custom vocabulary\n",
        "vectorizer = TfidfVectorizer(vocabulary=words, lowercase=True)\n",
        "\n",
        "# Fit the vectorizer on an empty list to set up the vocabulary\n",
        "\n",
        "# Function to calculate sentiment score for a headline\n",
        "def calculate_sentiment_score(headline):\n",
        "    tokens = word_tokenize(headline.lower())\n",
        "    token_tfidf = vectorizer.fit_transform([' '.join(tokens)]).toarray()[0]\n",
        "    positive_tfidf = sum(token_tfidf[:len(positive_words)])\n",
        "    negative_tfidf = sum(token_tfidf[len(positive_words):])\n",
        "    if positive_tfidf >= negative_tfidf:\n",
        "        return 'positive'\n",
        "    else:\n",
        "        return 'negative'\n",
        "\n",
        "# Apply sentiment analysis to each headline\n",
        "df['sentiment'] = df['cleaned title'].apply(calculate_sentiment_score)"
      ]
    },
    {
      "cell_type": "markdown",
      "source": [
        "Function to calculate sentiment scores for each headline."
      ],
      "metadata": {
        "id": "MSosRaxAoof3"
      }
    },
    {
      "cell_type": "code",
      "execution_count": null,
      "metadata": {
        "colab": {
          "base_uri": "https://localhost:8080/",
          "height": 1000
        },
        "id": "0tOVyXmpI2xk",
        "outputId": "110d6c6c-0bf0-41a2-f3b0-b68c2c103345"
      },
      "outputs": [
        {
          "output_type": "execute_result",
          "data": {
            "text/plain": [
              "    Unnamed: 0        Date category  \\\n",
              "0            0  2020-01-27  opinion   \n",
              "1            1  2020-01-27  opinion   \n",
              "2            2  2020-01-27  opinion   \n",
              "3            3  2020-01-27  opinion   \n",
              "4            4  2020-01-27  opinion   \n",
              "5            5  2020-01-27  opinion   \n",
              "6            6  2020-01-27     news   \n",
              "7            7  2020-01-27     news   \n",
              "8            8  2020-01-24  opinion   \n",
              "9            9  2020-01-24  opinion   \n",
              "10          10  2020-01-24  opinion   \n",
              "11          11  2020-01-24     news   \n",
              "12          12  2020-01-24  opinion   \n",
              "13          13  2020-01-24     news   \n",
              "14          14  2020-01-24     news   \n",
              "15          15  2020-01-24     news   \n",
              "16          16  2020-01-24     news   \n",
              "17          17  2020-01-24     news   \n",
              "18          18  2020-01-24     news   \n",
              "19          19  2020-01-24     news   \n",
              "\n",
              "                                                title  \\\n",
              "0   Apple Set To Beat Q1 Earnings Estimates  Tech ...   \n",
              "1   Tech Daily  Intel Results  Netflix Surge  Appl...   \n",
              "2   7 Monster Stock Market Predictions For The Wee...   \n",
              "3   Apple Earnings Preview  5G Launch  Expanding S...   \n",
              "4   Buy Surging Apple   Microsoft Stock Before Qua...   \n",
              "5   Top Stock Analyst Reports For Merck  Broadcom ...   \n",
              "6   Stocks   Europe Seen Opening Lower as Virus Co...   \n",
              "7   Intelligent Systems wins bullish rating from B...   \n",
              "8   What To Do If A Stock On Your  Buy List  Has A...   \n",
              "9                     Previewing Tech Sector Earnings   \n",
              "10  U S  Open   Coronavirus Ruins Lunar New Year  ...   \n",
              "11  Earnings Outlook  Apple earnings  A year after...   \n",
              "12  What Makes Apple  AAPL  A Strong Momentum Stoc...   \n",
              "13                 Apple gets  400 target on 5G cycle   \n",
              "14                      Take Five  When China sneezes   \n",
              "15  Top Ten  Weekend reads  Are these red flags fo...   \n",
              "16  Fiscal policies of main Irish parties vying fo...   \n",
              "17  Where U S  presidential candidates stand on br...   \n",
              "18  Need to Know  Apple shares are bound for  400 ...   \n",
              "19  Need to Know  Apple shares are bound for  400 ...   \n",
              "\n",
              "                                              content     Volume  label  \\\n",
              "0   Technology giant Apple   NASDAQ AAPL   is set ...  161940000      0   \n",
              "1   The top stories in this digest are Intel s   N...  161940000      0   \n",
              "2   S P 500  SPY \\nThis week will be packed with e...  161940000      0   \n",
              "3     Reports Q1 2020 results on Tuesday  Jan  28 ...  161940000      0   \n",
              "4   On today s episode of Full Court Finance here ...  161940000      0   \n",
              "5   Monday  January 27  2020The Zacks Research Dai...  161940000      0   \n",
              "6   By Peter Nurse \\nInvesting com   European stoc...  161940000      0   \n",
              "7   BTIG analyst Mark Palmer initiates coverage of...  161940000      0   \n",
              "8   I got a great question recently from Barbara P...  146537600      0   \n",
              "9   We get into the heart of the Q4 earnings seaso...  146537600      0   \n",
              "10  The coronavirus outbreak is intensifying  and ...  146537600      0   \n",
              "11  What a difference a year makes   After flubbin...  146537600      0   \n",
              "12  Momentum investing is all about the idea of fo...  146537600      0   \n",
              "13  Wedbush analyst Dan Ives raises his Apple  NAS...  146537600      0   \n",
              "14   Reuters    1 OUTBREAK\\nWuhan in central China...  146537600      0   \n",
              "15  The long bull market for U S  stocks has been ...  146537600      0   \n",
              "16  DUBLIN  Reuters    Ireland s two largest parti...  146537600      0   \n",
              "17  By Elizabeth Culliford\\n Reuters    In the run...  146537600      0   \n",
              "18  A week that started with a coronavirus panic l...  146537600      0   \n",
              "19  A week that started with a coronavirus panic l...  146537600      0   \n",
              "\n",
              "   sentiment                                      cleaned title  \n",
              "0   positive   apple set beat q1 earnings estimate tech etf buy  \n",
              "1   positive  tech daily intel result netflix surge apple va...  \n",
              "2   negative  7 monster stock market prediction week january 27  \n",
              "3   positive  apple earnings preview 5g launch expanding ser...  \n",
              "4   positive  buy surging apple microsoft stock quarterly ea...  \n",
              "5   negative     top stock analyst report merck broadcom sanofi  \n",
              "6   negative  stock europe seen opening lower virus concern ...  \n",
              "7   negative  intelligent system win bullish rating btig app...  \n",
              "8   positive                     stock buy list already run 100  \n",
              "9   positive                    previewing tech sector earnings  \n",
              "10  negative  u open coronavirus ruin lunar new year intel a...  \n",
              "11  negative  earnings outlook apple earnings year holiday m...  \n",
              "12  negative          make apple aapl strong momentum stock buy  \n",
              "13  positive                      apple get 400 target 5g cycle  \n",
              "14  positive                             take five china sneeze  \n",
              "15  negative  top ten weekend read red flag tesla apple netflix  \n",
              "16  positive         fiscal policy main irish party vying power  \n",
              "17  negative   u presidential candidate stand breaking big tech  \n",
              "18  positive  need know apple share bound 400 say analyst sp...  \n",
              "19  positive  need know apple share bound 400 say analyst he...  "
            ],
            "text/html": [
              "\n",
              "  <div id=\"df-70af6aad-601d-4e02-a017-f2f47fe31911\" class=\"colab-df-container\">\n",
              "    <div>\n",
              "<style scoped>\n",
              "    .dataframe tbody tr th:only-of-type {\n",
              "        vertical-align: middle;\n",
              "    }\n",
              "\n",
              "    .dataframe tbody tr th {\n",
              "        vertical-align: top;\n",
              "    }\n",
              "\n",
              "    .dataframe thead th {\n",
              "        text-align: right;\n",
              "    }\n",
              "</style>\n",
              "<table border=\"1\" class=\"dataframe\">\n",
              "  <thead>\n",
              "    <tr style=\"text-align: right;\">\n",
              "      <th></th>\n",
              "      <th>Unnamed: 0</th>\n",
              "      <th>Date</th>\n",
              "      <th>category</th>\n",
              "      <th>title</th>\n",
              "      <th>content</th>\n",
              "      <th>Volume</th>\n",
              "      <th>label</th>\n",
              "      <th>sentiment</th>\n",
              "      <th>cleaned title</th>\n",
              "    </tr>\n",
              "  </thead>\n",
              "  <tbody>\n",
              "    <tr>\n",
              "      <th>0</th>\n",
              "      <td>0</td>\n",
              "      <td>2020-01-27</td>\n",
              "      <td>opinion</td>\n",
              "      <td>Apple Set To Beat Q1 Earnings Estimates  Tech ...</td>\n",
              "      <td>Technology giant Apple   NASDAQ AAPL   is set ...</td>\n",
              "      <td>161940000</td>\n",
              "      <td>0</td>\n",
              "      <td>positive</td>\n",
              "      <td>apple set beat q1 earnings estimate tech etf buy</td>\n",
              "    </tr>\n",
              "    <tr>\n",
              "      <th>1</th>\n",
              "      <td>1</td>\n",
              "      <td>2020-01-27</td>\n",
              "      <td>opinion</td>\n",
              "      <td>Tech Daily  Intel Results  Netflix Surge  Appl...</td>\n",
              "      <td>The top stories in this digest are Intel s   N...</td>\n",
              "      <td>161940000</td>\n",
              "      <td>0</td>\n",
              "      <td>positive</td>\n",
              "      <td>tech daily intel result netflix surge apple va...</td>\n",
              "    </tr>\n",
              "    <tr>\n",
              "      <th>2</th>\n",
              "      <td>2</td>\n",
              "      <td>2020-01-27</td>\n",
              "      <td>opinion</td>\n",
              "      <td>7 Monster Stock Market Predictions For The Wee...</td>\n",
              "      <td>S P 500  SPY \\nThis week will be packed with e...</td>\n",
              "      <td>161940000</td>\n",
              "      <td>0</td>\n",
              "      <td>negative</td>\n",
              "      <td>7 monster stock market prediction week january 27</td>\n",
              "    </tr>\n",
              "    <tr>\n",
              "      <th>3</th>\n",
              "      <td>3</td>\n",
              "      <td>2020-01-27</td>\n",
              "      <td>opinion</td>\n",
              "      <td>Apple Earnings Preview  5G Launch  Expanding S...</td>\n",
              "      <td>Reports Q1 2020 results on Tuesday  Jan  28 ...</td>\n",
              "      <td>161940000</td>\n",
              "      <td>0</td>\n",
              "      <td>positive</td>\n",
              "      <td>apple earnings preview 5g launch expanding ser...</td>\n",
              "    </tr>\n",
              "    <tr>\n",
              "      <th>4</th>\n",
              "      <td>4</td>\n",
              "      <td>2020-01-27</td>\n",
              "      <td>opinion</td>\n",
              "      <td>Buy Surging Apple   Microsoft Stock Before Qua...</td>\n",
              "      <td>On today s episode of Full Court Finance here ...</td>\n",
              "      <td>161940000</td>\n",
              "      <td>0</td>\n",
              "      <td>positive</td>\n",
              "      <td>buy surging apple microsoft stock quarterly ea...</td>\n",
              "    </tr>\n",
              "    <tr>\n",
              "      <th>5</th>\n",
              "      <td>5</td>\n",
              "      <td>2020-01-27</td>\n",
              "      <td>opinion</td>\n",
              "      <td>Top Stock Analyst Reports For Merck  Broadcom ...</td>\n",
              "      <td>Monday  January 27  2020The Zacks Research Dai...</td>\n",
              "      <td>161940000</td>\n",
              "      <td>0</td>\n",
              "      <td>negative</td>\n",
              "      <td>top stock analyst report merck broadcom sanofi</td>\n",
              "    </tr>\n",
              "    <tr>\n",
              "      <th>6</th>\n",
              "      <td>6</td>\n",
              "      <td>2020-01-27</td>\n",
              "      <td>news</td>\n",
              "      <td>Stocks   Europe Seen Opening Lower as Virus Co...</td>\n",
              "      <td>By Peter Nurse \\nInvesting com   European stoc...</td>\n",
              "      <td>161940000</td>\n",
              "      <td>0</td>\n",
              "      <td>negative</td>\n",
              "      <td>stock europe seen opening lower virus concern ...</td>\n",
              "    </tr>\n",
              "    <tr>\n",
              "      <th>7</th>\n",
              "      <td>7</td>\n",
              "      <td>2020-01-27</td>\n",
              "      <td>news</td>\n",
              "      <td>Intelligent Systems wins bullish rating from B...</td>\n",
              "      <td>BTIG analyst Mark Palmer initiates coverage of...</td>\n",
              "      <td>161940000</td>\n",
              "      <td>0</td>\n",
              "      <td>negative</td>\n",
              "      <td>intelligent system win bullish rating btig app...</td>\n",
              "    </tr>\n",
              "    <tr>\n",
              "      <th>8</th>\n",
              "      <td>8</td>\n",
              "      <td>2020-01-24</td>\n",
              "      <td>opinion</td>\n",
              "      <td>What To Do If A Stock On Your  Buy List  Has A...</td>\n",
              "      <td>I got a great question recently from Barbara P...</td>\n",
              "      <td>146537600</td>\n",
              "      <td>0</td>\n",
              "      <td>positive</td>\n",
              "      <td>stock buy list already run 100</td>\n",
              "    </tr>\n",
              "    <tr>\n",
              "      <th>9</th>\n",
              "      <td>9</td>\n",
              "      <td>2020-01-24</td>\n",
              "      <td>opinion</td>\n",
              "      <td>Previewing Tech Sector Earnings</td>\n",
              "      <td>We get into the heart of the Q4 earnings seaso...</td>\n",
              "      <td>146537600</td>\n",
              "      <td>0</td>\n",
              "      <td>positive</td>\n",
              "      <td>previewing tech sector earnings</td>\n",
              "    </tr>\n",
              "    <tr>\n",
              "      <th>10</th>\n",
              "      <td>10</td>\n",
              "      <td>2020-01-24</td>\n",
              "      <td>opinion</td>\n",
              "      <td>U S  Open   Coronavirus Ruins Lunar New Year  ...</td>\n",
              "      <td>The coronavirus outbreak is intensifying  and ...</td>\n",
              "      <td>146537600</td>\n",
              "      <td>0</td>\n",
              "      <td>negative</td>\n",
              "      <td>u open coronavirus ruin lunar new year intel a...</td>\n",
              "    </tr>\n",
              "    <tr>\n",
              "      <th>11</th>\n",
              "      <td>11</td>\n",
              "      <td>2020-01-24</td>\n",
              "      <td>news</td>\n",
              "      <td>Earnings Outlook  Apple earnings  A year after...</td>\n",
              "      <td>What a difference a year makes   After flubbin...</td>\n",
              "      <td>146537600</td>\n",
              "      <td>0</td>\n",
              "      <td>negative</td>\n",
              "      <td>earnings outlook apple earnings year holiday m...</td>\n",
              "    </tr>\n",
              "    <tr>\n",
              "      <th>12</th>\n",
              "      <td>12</td>\n",
              "      <td>2020-01-24</td>\n",
              "      <td>opinion</td>\n",
              "      <td>What Makes Apple  AAPL  A Strong Momentum Stoc...</td>\n",
              "      <td>Momentum investing is all about the idea of fo...</td>\n",
              "      <td>146537600</td>\n",
              "      <td>0</td>\n",
              "      <td>negative</td>\n",
              "      <td>make apple aapl strong momentum stock buy</td>\n",
              "    </tr>\n",
              "    <tr>\n",
              "      <th>13</th>\n",
              "      <td>13</td>\n",
              "      <td>2020-01-24</td>\n",
              "      <td>news</td>\n",
              "      <td>Apple gets  400 target on 5G cycle</td>\n",
              "      <td>Wedbush analyst Dan Ives raises his Apple  NAS...</td>\n",
              "      <td>146537600</td>\n",
              "      <td>0</td>\n",
              "      <td>positive</td>\n",
              "      <td>apple get 400 target 5g cycle</td>\n",
              "    </tr>\n",
              "    <tr>\n",
              "      <th>14</th>\n",
              "      <td>14</td>\n",
              "      <td>2020-01-24</td>\n",
              "      <td>news</td>\n",
              "      <td>Take Five  When China sneezes</td>\n",
              "      <td>Reuters    1 OUTBREAK\\nWuhan in central China...</td>\n",
              "      <td>146537600</td>\n",
              "      <td>0</td>\n",
              "      <td>positive</td>\n",
              "      <td>take five china sneeze</td>\n",
              "    </tr>\n",
              "    <tr>\n",
              "      <th>15</th>\n",
              "      <td>15</td>\n",
              "      <td>2020-01-24</td>\n",
              "      <td>news</td>\n",
              "      <td>Top Ten  Weekend reads  Are these red flags fo...</td>\n",
              "      <td>The long bull market for U S  stocks has been ...</td>\n",
              "      <td>146537600</td>\n",
              "      <td>0</td>\n",
              "      <td>negative</td>\n",
              "      <td>top ten weekend read red flag tesla apple netflix</td>\n",
              "    </tr>\n",
              "    <tr>\n",
              "      <th>16</th>\n",
              "      <td>16</td>\n",
              "      <td>2020-01-24</td>\n",
              "      <td>news</td>\n",
              "      <td>Fiscal policies of main Irish parties vying fo...</td>\n",
              "      <td>DUBLIN  Reuters    Ireland s two largest parti...</td>\n",
              "      <td>146537600</td>\n",
              "      <td>0</td>\n",
              "      <td>positive</td>\n",
              "      <td>fiscal policy main irish party vying power</td>\n",
              "    </tr>\n",
              "    <tr>\n",
              "      <th>17</th>\n",
              "      <td>17</td>\n",
              "      <td>2020-01-24</td>\n",
              "      <td>news</td>\n",
              "      <td>Where U S  presidential candidates stand on br...</td>\n",
              "      <td>By Elizabeth Culliford\\n Reuters    In the run...</td>\n",
              "      <td>146537600</td>\n",
              "      <td>0</td>\n",
              "      <td>negative</td>\n",
              "      <td>u presidential candidate stand breaking big tech</td>\n",
              "    </tr>\n",
              "    <tr>\n",
              "      <th>18</th>\n",
              "      <td>18</td>\n",
              "      <td>2020-01-24</td>\n",
              "      <td>news</td>\n",
              "      <td>Need to Know  Apple shares are bound for  400 ...</td>\n",
              "      <td>A week that started with a coronavirus panic l...</td>\n",
              "      <td>146537600</td>\n",
              "      <td>0</td>\n",
              "      <td>positive</td>\n",
              "      <td>need know apple share bound 400 say analyst sp...</td>\n",
              "    </tr>\n",
              "    <tr>\n",
              "      <th>19</th>\n",
              "      <td>19</td>\n",
              "      <td>2020-01-24</td>\n",
              "      <td>news</td>\n",
              "      <td>Need to Know  Apple shares are bound for  400 ...</td>\n",
              "      <td>A week that started with a coronavirus panic l...</td>\n",
              "      <td>146537600</td>\n",
              "      <td>0</td>\n",
              "      <td>positive</td>\n",
              "      <td>need know apple share bound 400 say analyst he...</td>\n",
              "    </tr>\n",
              "  </tbody>\n",
              "</table>\n",
              "</div>\n",
              "    <div class=\"colab-df-buttons\">\n",
              "\n",
              "  <div class=\"colab-df-container\">\n",
              "    <button class=\"colab-df-convert\" onclick=\"convertToInteractive('df-70af6aad-601d-4e02-a017-f2f47fe31911')\"\n",
              "            title=\"Convert this dataframe to an interactive table.\"\n",
              "            style=\"display:none;\">\n",
              "\n",
              "  <svg xmlns=\"http://www.w3.org/2000/svg\" height=\"24px\" viewBox=\"0 -960 960 960\">\n",
              "    <path d=\"M120-120v-720h720v720H120Zm60-500h600v-160H180v160Zm220 220h160v-160H400v160Zm0 220h160v-160H400v160ZM180-400h160v-160H180v160Zm440 0h160v-160H620v160ZM180-180h160v-160H180v160Zm440 0h160v-160H620v160Z\"/>\n",
              "  </svg>\n",
              "    </button>\n",
              "\n",
              "  <style>\n",
              "    .colab-df-container {\n",
              "      display:flex;\n",
              "      gap: 12px;\n",
              "    }\n",
              "\n",
              "    .colab-df-convert {\n",
              "      background-color: #E8F0FE;\n",
              "      border: none;\n",
              "      border-radius: 50%;\n",
              "      cursor: pointer;\n",
              "      display: none;\n",
              "      fill: #1967D2;\n",
              "      height: 32px;\n",
              "      padding: 0 0 0 0;\n",
              "      width: 32px;\n",
              "    }\n",
              "\n",
              "    .colab-df-convert:hover {\n",
              "      background-color: #E2EBFA;\n",
              "      box-shadow: 0px 1px 2px rgba(60, 64, 67, 0.3), 0px 1px 3px 1px rgba(60, 64, 67, 0.15);\n",
              "      fill: #174EA6;\n",
              "    }\n",
              "\n",
              "    .colab-df-buttons div {\n",
              "      margin-bottom: 4px;\n",
              "    }\n",
              "\n",
              "    [theme=dark] .colab-df-convert {\n",
              "      background-color: #3B4455;\n",
              "      fill: #D2E3FC;\n",
              "    }\n",
              "\n",
              "    [theme=dark] .colab-df-convert:hover {\n",
              "      background-color: #434B5C;\n",
              "      box-shadow: 0px 1px 3px 1px rgba(0, 0, 0, 0.15);\n",
              "      filter: drop-shadow(0px 1px 2px rgba(0, 0, 0, 0.3));\n",
              "      fill: #FFFFFF;\n",
              "    }\n",
              "  </style>\n",
              "\n",
              "    <script>\n",
              "      const buttonEl =\n",
              "        document.querySelector('#df-70af6aad-601d-4e02-a017-f2f47fe31911 button.colab-df-convert');\n",
              "      buttonEl.style.display =\n",
              "        google.colab.kernel.accessAllowed ? 'block' : 'none';\n",
              "\n",
              "      async function convertToInteractive(key) {\n",
              "        const element = document.querySelector('#df-70af6aad-601d-4e02-a017-f2f47fe31911');\n",
              "        const dataTable =\n",
              "          await google.colab.kernel.invokeFunction('convertToInteractive',\n",
              "                                                    [key], {});\n",
              "        if (!dataTable) return;\n",
              "\n",
              "        const docLinkHtml = 'Like what you see? Visit the ' +\n",
              "          '<a target=\"_blank\" href=https://colab.research.google.com/notebooks/data_table.ipynb>data table notebook</a>'\n",
              "          + ' to learn more about interactive tables.';\n",
              "        element.innerHTML = '';\n",
              "        dataTable['output_type'] = 'display_data';\n",
              "        await google.colab.output.renderOutput(dataTable, element);\n",
              "        const docLink = document.createElement('div');\n",
              "        docLink.innerHTML = docLinkHtml;\n",
              "        element.appendChild(docLink);\n",
              "      }\n",
              "    </script>\n",
              "  </div>\n",
              "\n",
              "\n",
              "<div id=\"df-1418c1c9-80de-45d9-94e5-9315f8963338\">\n",
              "  <button class=\"colab-df-quickchart\" onclick=\"quickchart('df-1418c1c9-80de-45d9-94e5-9315f8963338')\"\n",
              "            title=\"Suggest charts\"\n",
              "            style=\"display:none;\">\n",
              "\n",
              "<svg xmlns=\"http://www.w3.org/2000/svg\" height=\"24px\"viewBox=\"0 0 24 24\"\n",
              "     width=\"24px\">\n",
              "    <g>\n",
              "        <path d=\"M19 3H5c-1.1 0-2 .9-2 2v14c0 1.1.9 2 2 2h14c1.1 0 2-.9 2-2V5c0-1.1-.9-2-2-2zM9 17H7v-7h2v7zm4 0h-2V7h2v10zm4 0h-2v-4h2v4z\"/>\n",
              "    </g>\n",
              "</svg>\n",
              "  </button>\n",
              "\n",
              "<style>\n",
              "  .colab-df-quickchart {\n",
              "      --bg-color: #E8F0FE;\n",
              "      --fill-color: #1967D2;\n",
              "      --hover-bg-color: #E2EBFA;\n",
              "      --hover-fill-color: #174EA6;\n",
              "      --disabled-fill-color: #AAA;\n",
              "      --disabled-bg-color: #DDD;\n",
              "  }\n",
              "\n",
              "  [theme=dark] .colab-df-quickchart {\n",
              "      --bg-color: #3B4455;\n",
              "      --fill-color: #D2E3FC;\n",
              "      --hover-bg-color: #434B5C;\n",
              "      --hover-fill-color: #FFFFFF;\n",
              "      --disabled-bg-color: #3B4455;\n",
              "      --disabled-fill-color: #666;\n",
              "  }\n",
              "\n",
              "  .colab-df-quickchart {\n",
              "    background-color: var(--bg-color);\n",
              "    border: none;\n",
              "    border-radius: 50%;\n",
              "    cursor: pointer;\n",
              "    display: none;\n",
              "    fill: var(--fill-color);\n",
              "    height: 32px;\n",
              "    padding: 0;\n",
              "    width: 32px;\n",
              "  }\n",
              "\n",
              "  .colab-df-quickchart:hover {\n",
              "    background-color: var(--hover-bg-color);\n",
              "    box-shadow: 0 1px 2px rgba(60, 64, 67, 0.3), 0 1px 3px 1px rgba(60, 64, 67, 0.15);\n",
              "    fill: var(--button-hover-fill-color);\n",
              "  }\n",
              "\n",
              "  .colab-df-quickchart-complete:disabled,\n",
              "  .colab-df-quickchart-complete:disabled:hover {\n",
              "    background-color: var(--disabled-bg-color);\n",
              "    fill: var(--disabled-fill-color);\n",
              "    box-shadow: none;\n",
              "  }\n",
              "\n",
              "  .colab-df-spinner {\n",
              "    border: 2px solid var(--fill-color);\n",
              "    border-color: transparent;\n",
              "    border-bottom-color: var(--fill-color);\n",
              "    animation:\n",
              "      spin 1s steps(1) infinite;\n",
              "  }\n",
              "\n",
              "  @keyframes spin {\n",
              "    0% {\n",
              "      border-color: transparent;\n",
              "      border-bottom-color: var(--fill-color);\n",
              "      border-left-color: var(--fill-color);\n",
              "    }\n",
              "    20% {\n",
              "      border-color: transparent;\n",
              "      border-left-color: var(--fill-color);\n",
              "      border-top-color: var(--fill-color);\n",
              "    }\n",
              "    30% {\n",
              "      border-color: transparent;\n",
              "      border-left-color: var(--fill-color);\n",
              "      border-top-color: var(--fill-color);\n",
              "      border-right-color: var(--fill-color);\n",
              "    }\n",
              "    40% {\n",
              "      border-color: transparent;\n",
              "      border-right-color: var(--fill-color);\n",
              "      border-top-color: var(--fill-color);\n",
              "    }\n",
              "    60% {\n",
              "      border-color: transparent;\n",
              "      border-right-color: var(--fill-color);\n",
              "    }\n",
              "    80% {\n",
              "      border-color: transparent;\n",
              "      border-right-color: var(--fill-color);\n",
              "      border-bottom-color: var(--fill-color);\n",
              "    }\n",
              "    90% {\n",
              "      border-color: transparent;\n",
              "      border-bottom-color: var(--fill-color);\n",
              "    }\n",
              "  }\n",
              "</style>\n",
              "\n",
              "  <script>\n",
              "    async function quickchart(key) {\n",
              "      const quickchartButtonEl =\n",
              "        document.querySelector('#' + key + ' button');\n",
              "      quickchartButtonEl.disabled = true;  // To prevent multiple clicks.\n",
              "      quickchartButtonEl.classList.add('colab-df-spinner');\n",
              "      try {\n",
              "        const charts = await google.colab.kernel.invokeFunction(\n",
              "            'suggestCharts', [key], {});\n",
              "      } catch (error) {\n",
              "        console.error('Error during call to suggestCharts:', error);\n",
              "      }\n",
              "      quickchartButtonEl.classList.remove('colab-df-spinner');\n",
              "      quickchartButtonEl.classList.add('colab-df-quickchart-complete');\n",
              "    }\n",
              "    (() => {\n",
              "      let quickchartButtonEl =\n",
              "        document.querySelector('#df-1418c1c9-80de-45d9-94e5-9315f8963338 button');\n",
              "      quickchartButtonEl.style.display =\n",
              "        google.colab.kernel.accessAllowed ? 'block' : 'none';\n",
              "    })();\n",
              "  </script>\n",
              "</div>\n",
              "    </div>\n",
              "  </div>\n"
            ],
            "application/vnd.google.colaboratory.intrinsic+json": {
              "type": "dataframe",
              "variable_name": "df",
              "summary": "{\n  \"name\": \"df\",\n  \"rows\": 15975,\n  \"fields\": [\n    {\n      \"column\": \"Unnamed: 0\",\n      \"properties\": {\n        \"dtype\": \"number\",\n        \"std\": 4611,\n        \"min\": 0,\n        \"max\": 15974,\n        \"num_unique_values\": 15975,\n        \"samples\": [\n          1768,\n          1533,\n          9129\n        ],\n        \"semantic_type\": \"\",\n        \"description\": \"\"\n      }\n    },\n    {\n      \"column\": \"Date\",\n      \"properties\": {\n        \"dtype\": \"object\",\n        \"num_unique_values\": 1654,\n        \"samples\": [\n          \"2012-07-31\",\n          \"2019-10-14\",\n          \"2017-09-22\"\n        ],\n        \"semantic_type\": \"\",\n        \"description\": \"\"\n      }\n    },\n    {\n      \"column\": \"category\",\n      \"properties\": {\n        \"dtype\": \"category\",\n        \"num_unique_values\": 2,\n        \"samples\": [\n          \"news\",\n          \"opinion\"\n        ],\n        \"semantic_type\": \"\",\n        \"description\": \"\"\n      }\n    },\n    {\n      \"column\": \"title\",\n      \"properties\": {\n        \"dtype\": \"string\",\n        \"num_unique_values\": 15866,\n        \"samples\": [\n          \"China OKs iPhone 6 sale after Apple addresses security concerns\",\n          \"Will Amgen Continue To Surge Higher \"\n        ],\n        \"semantic_type\": \"\",\n        \"description\": \"\"\n      }\n    },\n    {\n      \"column\": \"content\",\n      \"properties\": {\n        \"dtype\": \"string\",\n        \"num_unique_values\": 15958,\n        \"samples\": [\n          \"Upstream energy firm  Range Resources Corporation   NYSE RRC    is set to report fourth quarter 2017 results on Feb 27  after the closing bell Last quarter  the company delivered a positive earnings surprise of 150   Range Resources also managed to beat the Zacks Consensus Estimate in three of the last four quarters  the average positive earnings surprise being 74 3      Let s see how things are shaping up for this announcement     Which Way Are Estimates Treading Let s look at the estimate revisions in order to get a clear picture of what analysts are thinking about the company before earnings release The Zacks Consensus Estimate of 15 cents for the fourth quarter has remained unchanged for the last seven days  This represents a year over year earnings plunge of 34 8  Further  analysts polled by Zacks expect revenues of  643 million for the impending quarter  up 153 7  from the year ago quarter Range Resources Corporation Price and EPS Surprise   Factors to Consider This QuarterThe Zacks Consensus Estimate for the company s total fourth quarter production is pegged at 2 175 million cubic feet equivalent per day  MMcfe d    almost in line with the company s projection of 2 170 MMcfe d  up from 1 986 MMcfe d reported in the prior quarter and 1 854 MMcfe d in the year ago quarter The Zacks Consensus Estimate for the company s natural gas price realizations   including hedging   is pegged at  2 83 per Mcf  up from  2 69 per Mcf in the third quarter but down from  2 93 recorded in the October to December quarter of 2016 Higher expected average daily production and favorable sequential natural gas price realizations might contribute to the company s earnings   However  the upstream firm s long term debt increased 42 3  through 2016 and 5 5  during the first nine months of 2017  Although increasing debt load is a concern  the company s debt to capitalization ratio came lower than the   Total debt to capitalization ratio of the company is 41 8   lower than the industry s 49 4        Earnings WhispersOur proven model does not conclusively show that Range Resources will beat estimates this quarter  That is because a stock needs to have a positive  and a Zacks Rank  1  Strong Buy   2  Buy  or 3  Hold  for this to happen  That is not the case here as you will see below Zacks ESP  Earnings ESP  which represents the difference between the Most Accurate estimate and the Zacks Consensus Estimate  is pegged at  2 90   You can uncover the best stocks to buy or sell before they re reported with our  Zacks Rank  Range Resources currently carries a Zacks Rank  3  Hold  Although a favorable Zacks rank increases the predictive power of ESP  we need to have a positive ESP to be confident of an earnings beat Please note that the Sell rated stocks  Zacks Rank  4 or 5  should never be considered going into an earnings announcement   Stocks to ConsiderHere are a couple of companies which  per our model  have the right combination of elements to post an earnings beat this quarter  Houston  TX based EOG Resources   NYSE EOG   is an upstream company  It has an Earnings ESP of  3 61  and a Zacks Rank of 1  You can see  WildHorse Resource Development Corporation   NYSE WRD    based in Houston  TX  is also an upstream energy firm  It has an Earnings ESP of   5 26  and flaunts a Zacks Rank of 1  Dallas  TX based RSP Permian  Inc    NYSE RSPP   is an upstream energy company with an Earnings ESP of   1 47   It is a Zacks  3 Ranked player More Stock News  This Is Bigger than the iPhone  It could become the mother of all technological revolutions  Apple  NASDAQ AAPL  sold a mere 1 billion iPhones in 10 years but a new breakthrough is expected to generate more than 27 billion devices in just 3 years  creating a  1 7 trillion market Zacks has just released a Special Report that spotlights this fast emerging phenomenon and 6 tickers for taking advantage of it  If you don t buy now  you may kick yourself in 2020 \",\n          \"Apple Inc    NASDAQ AAPL   was having a splendid 2017 until it was revealed that software updates were slowing iPhones with older batteries  The stock lost 2 2  in the last five sessions and is currently facing at least  lawsuits in various federal courts regarding the issue The iPhone maker recently issued a  at its website  apologizing for the lack of transparency relating to the handling of iPhone performance with older batteries  However  the company denied that it has ever done anything to intentionally shorten the life of a product Moreover  the company announced certain steps to pacify aggrieved customers The company will lower the price of an out of warranty battery replacement by  50 for anyone with an iPhone 6 or later  The offer will be available from late January through December 2018  It will also issue an iOS software update with new features that give users more visibility into the health of their iPhone s battery Apple Inc  Price and Consensus\\n    \\nApple Devices Activated Most in the HolidaysApple s apologetic stance is understandable considering the value of older models in the market According to TechCrunch  which quoted data from Flurry Analytics  Apple devices accounted for 44  of smartphone and tablet activations during the holidays  Interestingly  older devices   iPhone 7 and iPhone 6   took the top spots in terms of activations The data reflects Apple s diversifying business model  It s no longer dependent on a single device for generating top line growth  We note that iPhone 7 and older models have significant demand in cost sensitive markets of Asia Pacific  India and China Apple s flagship product iPhone X at  999 is pricey for these markets  Taiwan s Economic Daily recently suggested that Apple may cut unit volume by 20 million from its original expectation in the fiscal first quarter What to Expect from Apple in 2018Despite the  transparency  debacle  we believe that Apple has significant prospects in 2018  backed by expanding product portfolio Apart from the iPhone  the aggressively growing Services business is a key catalyst  Services  which include revenues from Internet Services  App store  Apple Music  AppleCare  Apple Pay  licensing and other services  surged 34  year over year to nearly  8 5 billion in the last quarter Apple is on track to double Services revenues of  24 billion in fiscal 2016 by 2020  To boost subscriber base  the company is now venturing into original programming  Apple is reportedly willing to invest  1 billion and has appointed ex Sony executives Jamie Erlicht and Zack Van Amburg  to initiate expansion into original television programming Apple recently acquired popular music discovery app Shazam for an estimated  400 million  The company is  to integrate the software into Apple Music  or Siri  or in HomePod  its high end smart speaker with a superior sound quality  which will be launched in 2018 Moreover  we believe that foray into fast growing technologies like autonomous vehicle  artificial intelligence  AI    AR VR are other long term catalysts Zacks Rank   Key PicksCurrently  Apple sports a Zacks Rank  3  Hold  A few better ranked stocks in the broader technology sector are NetApp  Inc   NASDAQ NTAP    NVIDIA Corporation   NASDAQ NVDA   and Broadcom Limited   NASDAQ AVGO    all sporting a Zacks Rank  1  Strong Buy   You can see NetApp  NVIDIA and Broadcom have a long term expected earnings growth rate of 11 34   10 25  and 13 75   respectively \\n \\nMore Stock News  This Is Bigger than the iPhone \\nIt could become the mother of all technological revolutions  Apple sold a mere 1 billion iPhones in 10 years but a new breakthrough is expected to generate more than 27 billion devices in just 3 years  creating a  1 7 trillion market \\nZacks has just released a Special Report that spotlights this fast emerging phenomenon and 6 tickers for taking advantage of it  If you don t buy now  you may kick yourself in 2020 \"\n        ],\n        \"semantic_type\": \"\",\n        \"description\": \"\"\n      }\n    },\n    {\n      \"column\": \"Volume\",\n      \"properties\": {\n        \"dtype\": \"number\",\n        \"std\": 109582000,\n        \"min\": 45448000,\n        \"max\": 1460852400,\n        \"num_unique_values\": 1650,\n        \"samples\": [\n          233292800,\n          96427600\n        ],\n        \"semantic_type\": \"\",\n        \"description\": \"\"\n      }\n    },\n    {\n      \"column\": \"label\",\n      \"properties\": {\n        \"dtype\": \"number\",\n        \"std\": 0,\n        \"min\": 0,\n        \"max\": 1,\n        \"num_unique_values\": 2,\n        \"samples\": [\n          1,\n          0\n        ],\n        \"semantic_type\": \"\",\n        \"description\": \"\"\n      }\n    },\n    {\n      \"column\": \"sentiment\",\n      \"properties\": {\n        \"dtype\": \"category\",\n        \"num_unique_values\": 2,\n        \"samples\": [\n          \"negative\",\n          \"positive\"\n        ],\n        \"semantic_type\": \"\",\n        \"description\": \"\"\n      }\n    },\n    {\n      \"column\": \"cleaned title\",\n      \"properties\": {\n        \"dtype\": \"string\",\n        \"num_unique_values\": 15826,\n        \"samples\": [\n          \"pitney bowes pbi q3 earnings miss estimate sale\",\n          \"top analyst upgrade downgrade amazon apple bed bath beyond bp gamestop meet ptc total visa wynn\"\n        ],\n        \"semantic_type\": \"\",\n        \"description\": \"\"\n      }\n    }\n  ]\n}"
            }
          },
          "metadata": {},
          "execution_count": 5
        }
      ],
      "source": [
        "df.head(20)"
      ]
    },
    {
      "cell_type": "code",
      "execution_count": null,
      "metadata": {
        "colab": {
          "base_uri": "https://localhost:8080/"
        },
        "id": "jznbBLtWJBzg",
        "outputId": "3ccffdc5-c345-4e85-a15c-646452f69c8f"
      },
      "outputs": [
        {
          "output_type": "execute_result",
          "data": {
            "text/plain": [
              "sentiment\n",
              "positive    10450\n",
              "negative     5525\n",
              "Name: count, dtype: int64"
            ]
          },
          "metadata": {},
          "execution_count": 6
        }
      ],
      "source": [
        "df['sentiment'].value_counts()"
      ]
    },
    {
      "cell_type": "code",
      "execution_count": null,
      "metadata": {
        "id": "qK37gtkLJruJ",
        "colab": {
          "base_uri": "https://localhost:8080/"
        },
        "outputId": "a57ea45e-ed43-449b-b479-aa5266556139"
      },
      "outputs": [
        {
          "output_type": "stream",
          "name": "stdout",
          "text": [
            "Index(['Unnamed: 0', 'Date', 'category', 'title', 'content', 'Volume', 'label',\n",
            "       'sentiment', 'cleaned title'],\n",
            "      dtype='object')\n"
          ]
        }
      ],
      "source": [
        "columns = df.columns\n",
        "print(columns)"
      ]
    },
    {
      "cell_type": "code",
      "execution_count": null,
      "metadata": {
        "id": "oZOLAZBTJv8y"
      },
      "outputs": [],
      "source": [
        "encoded_df = pd.DataFrame()\n",
        "encoded_df['category'] = df['category'].apply(lambda x: 1 if x == 'news' else 0)\n",
        "encoded_df['volume'] = df['Volume']\n",
        "df['Date'] = pd.to_datetime(df['Date'])\n",
        "encoded_df['year'] = df['Date'].dt.year\n",
        "encoded_df['month'] = df['Date'].dt.month\n",
        "encoded_df['day'] = df['Date'].dt.day\n",
        "encoded_df['sentiment'] = df['sentiment'].apply(lambda x: 1 if x == 'positive' else 0)\n",
        "encoded_df['label'] = df['label']"
      ]
    },
    {
      "cell_type": "markdown",
      "source": [
        "One-hot encoding to create numerical values"
      ],
      "metadata": {
        "id": "v_WkqRNVoyPS"
      }
    },
    {
      "cell_type": "code",
      "execution_count": null,
      "metadata": {
        "id": "Chz9bj4fJ2yw",
        "colab": {
          "base_uri": "https://localhost:8080/",
          "height": 206
        },
        "outputId": "70c590e9-a923-4720-bddf-6673dcffe674"
      },
      "outputs": [
        {
          "output_type": "execute_result",
          "data": {
            "text/plain": [
              "   category     volume  year  month  day  sentiment  label\n",
              "0         0  161940000  2020      1   27          1      0\n",
              "1         0  161940000  2020      1   27          1      0\n",
              "2         0  161940000  2020      1   27          0      0\n",
              "3         0  161940000  2020      1   27          1      0\n",
              "4         0  161940000  2020      1   27          1      0"
            ],
            "text/html": [
              "\n",
              "  <div id=\"df-6f40ded7-a28b-4651-8e9c-814e6529db83\" class=\"colab-df-container\">\n",
              "    <div>\n",
              "<style scoped>\n",
              "    .dataframe tbody tr th:only-of-type {\n",
              "        vertical-align: middle;\n",
              "    }\n",
              "\n",
              "    .dataframe tbody tr th {\n",
              "        vertical-align: top;\n",
              "    }\n",
              "\n",
              "    .dataframe thead th {\n",
              "        text-align: right;\n",
              "    }\n",
              "</style>\n",
              "<table border=\"1\" class=\"dataframe\">\n",
              "  <thead>\n",
              "    <tr style=\"text-align: right;\">\n",
              "      <th></th>\n",
              "      <th>category</th>\n",
              "      <th>volume</th>\n",
              "      <th>year</th>\n",
              "      <th>month</th>\n",
              "      <th>day</th>\n",
              "      <th>sentiment</th>\n",
              "      <th>label</th>\n",
              "    </tr>\n",
              "  </thead>\n",
              "  <tbody>\n",
              "    <tr>\n",
              "      <th>0</th>\n",
              "      <td>0</td>\n",
              "      <td>161940000</td>\n",
              "      <td>2020</td>\n",
              "      <td>1</td>\n",
              "      <td>27</td>\n",
              "      <td>1</td>\n",
              "      <td>0</td>\n",
              "    </tr>\n",
              "    <tr>\n",
              "      <th>1</th>\n",
              "      <td>0</td>\n",
              "      <td>161940000</td>\n",
              "      <td>2020</td>\n",
              "      <td>1</td>\n",
              "      <td>27</td>\n",
              "      <td>1</td>\n",
              "      <td>0</td>\n",
              "    </tr>\n",
              "    <tr>\n",
              "      <th>2</th>\n",
              "      <td>0</td>\n",
              "      <td>161940000</td>\n",
              "      <td>2020</td>\n",
              "      <td>1</td>\n",
              "      <td>27</td>\n",
              "      <td>0</td>\n",
              "      <td>0</td>\n",
              "    </tr>\n",
              "    <tr>\n",
              "      <th>3</th>\n",
              "      <td>0</td>\n",
              "      <td>161940000</td>\n",
              "      <td>2020</td>\n",
              "      <td>1</td>\n",
              "      <td>27</td>\n",
              "      <td>1</td>\n",
              "      <td>0</td>\n",
              "    </tr>\n",
              "    <tr>\n",
              "      <th>4</th>\n",
              "      <td>0</td>\n",
              "      <td>161940000</td>\n",
              "      <td>2020</td>\n",
              "      <td>1</td>\n",
              "      <td>27</td>\n",
              "      <td>1</td>\n",
              "      <td>0</td>\n",
              "    </tr>\n",
              "  </tbody>\n",
              "</table>\n",
              "</div>\n",
              "    <div class=\"colab-df-buttons\">\n",
              "\n",
              "  <div class=\"colab-df-container\">\n",
              "    <button class=\"colab-df-convert\" onclick=\"convertToInteractive('df-6f40ded7-a28b-4651-8e9c-814e6529db83')\"\n",
              "            title=\"Convert this dataframe to an interactive table.\"\n",
              "            style=\"display:none;\">\n",
              "\n",
              "  <svg xmlns=\"http://www.w3.org/2000/svg\" height=\"24px\" viewBox=\"0 -960 960 960\">\n",
              "    <path d=\"M120-120v-720h720v720H120Zm60-500h600v-160H180v160Zm220 220h160v-160H400v160Zm0 220h160v-160H400v160ZM180-400h160v-160H180v160Zm440 0h160v-160H620v160ZM180-180h160v-160H180v160Zm440 0h160v-160H620v160Z\"/>\n",
              "  </svg>\n",
              "    </button>\n",
              "\n",
              "  <style>\n",
              "    .colab-df-container {\n",
              "      display:flex;\n",
              "      gap: 12px;\n",
              "    }\n",
              "\n",
              "    .colab-df-convert {\n",
              "      background-color: #E8F0FE;\n",
              "      border: none;\n",
              "      border-radius: 50%;\n",
              "      cursor: pointer;\n",
              "      display: none;\n",
              "      fill: #1967D2;\n",
              "      height: 32px;\n",
              "      padding: 0 0 0 0;\n",
              "      width: 32px;\n",
              "    }\n",
              "\n",
              "    .colab-df-convert:hover {\n",
              "      background-color: #E2EBFA;\n",
              "      box-shadow: 0px 1px 2px rgba(60, 64, 67, 0.3), 0px 1px 3px 1px rgba(60, 64, 67, 0.15);\n",
              "      fill: #174EA6;\n",
              "    }\n",
              "\n",
              "    .colab-df-buttons div {\n",
              "      margin-bottom: 4px;\n",
              "    }\n",
              "\n",
              "    [theme=dark] .colab-df-convert {\n",
              "      background-color: #3B4455;\n",
              "      fill: #D2E3FC;\n",
              "    }\n",
              "\n",
              "    [theme=dark] .colab-df-convert:hover {\n",
              "      background-color: #434B5C;\n",
              "      box-shadow: 0px 1px 3px 1px rgba(0, 0, 0, 0.15);\n",
              "      filter: drop-shadow(0px 1px 2px rgba(0, 0, 0, 0.3));\n",
              "      fill: #FFFFFF;\n",
              "    }\n",
              "  </style>\n",
              "\n",
              "    <script>\n",
              "      const buttonEl =\n",
              "        document.querySelector('#df-6f40ded7-a28b-4651-8e9c-814e6529db83 button.colab-df-convert');\n",
              "      buttonEl.style.display =\n",
              "        google.colab.kernel.accessAllowed ? 'block' : 'none';\n",
              "\n",
              "      async function convertToInteractive(key) {\n",
              "        const element = document.querySelector('#df-6f40ded7-a28b-4651-8e9c-814e6529db83');\n",
              "        const dataTable =\n",
              "          await google.colab.kernel.invokeFunction('convertToInteractive',\n",
              "                                                    [key], {});\n",
              "        if (!dataTable) return;\n",
              "\n",
              "        const docLinkHtml = 'Like what you see? Visit the ' +\n",
              "          '<a target=\"_blank\" href=https://colab.research.google.com/notebooks/data_table.ipynb>data table notebook</a>'\n",
              "          + ' to learn more about interactive tables.';\n",
              "        element.innerHTML = '';\n",
              "        dataTable['output_type'] = 'display_data';\n",
              "        await google.colab.output.renderOutput(dataTable, element);\n",
              "        const docLink = document.createElement('div');\n",
              "        docLink.innerHTML = docLinkHtml;\n",
              "        element.appendChild(docLink);\n",
              "      }\n",
              "    </script>\n",
              "  </div>\n",
              "\n",
              "\n",
              "<div id=\"df-fca4e8a6-dcf9-4552-9820-2d5596aad58d\">\n",
              "  <button class=\"colab-df-quickchart\" onclick=\"quickchart('df-fca4e8a6-dcf9-4552-9820-2d5596aad58d')\"\n",
              "            title=\"Suggest charts\"\n",
              "            style=\"display:none;\">\n",
              "\n",
              "<svg xmlns=\"http://www.w3.org/2000/svg\" height=\"24px\"viewBox=\"0 0 24 24\"\n",
              "     width=\"24px\">\n",
              "    <g>\n",
              "        <path d=\"M19 3H5c-1.1 0-2 .9-2 2v14c0 1.1.9 2 2 2h14c1.1 0 2-.9 2-2V5c0-1.1-.9-2-2-2zM9 17H7v-7h2v7zm4 0h-2V7h2v10zm4 0h-2v-4h2v4z\"/>\n",
              "    </g>\n",
              "</svg>\n",
              "  </button>\n",
              "\n",
              "<style>\n",
              "  .colab-df-quickchart {\n",
              "      --bg-color: #E8F0FE;\n",
              "      --fill-color: #1967D2;\n",
              "      --hover-bg-color: #E2EBFA;\n",
              "      --hover-fill-color: #174EA6;\n",
              "      --disabled-fill-color: #AAA;\n",
              "      --disabled-bg-color: #DDD;\n",
              "  }\n",
              "\n",
              "  [theme=dark] .colab-df-quickchart {\n",
              "      --bg-color: #3B4455;\n",
              "      --fill-color: #D2E3FC;\n",
              "      --hover-bg-color: #434B5C;\n",
              "      --hover-fill-color: #FFFFFF;\n",
              "      --disabled-bg-color: #3B4455;\n",
              "      --disabled-fill-color: #666;\n",
              "  }\n",
              "\n",
              "  .colab-df-quickchart {\n",
              "    background-color: var(--bg-color);\n",
              "    border: none;\n",
              "    border-radius: 50%;\n",
              "    cursor: pointer;\n",
              "    display: none;\n",
              "    fill: var(--fill-color);\n",
              "    height: 32px;\n",
              "    padding: 0;\n",
              "    width: 32px;\n",
              "  }\n",
              "\n",
              "  .colab-df-quickchart:hover {\n",
              "    background-color: var(--hover-bg-color);\n",
              "    box-shadow: 0 1px 2px rgba(60, 64, 67, 0.3), 0 1px 3px 1px rgba(60, 64, 67, 0.15);\n",
              "    fill: var(--button-hover-fill-color);\n",
              "  }\n",
              "\n",
              "  .colab-df-quickchart-complete:disabled,\n",
              "  .colab-df-quickchart-complete:disabled:hover {\n",
              "    background-color: var(--disabled-bg-color);\n",
              "    fill: var(--disabled-fill-color);\n",
              "    box-shadow: none;\n",
              "  }\n",
              "\n",
              "  .colab-df-spinner {\n",
              "    border: 2px solid var(--fill-color);\n",
              "    border-color: transparent;\n",
              "    border-bottom-color: var(--fill-color);\n",
              "    animation:\n",
              "      spin 1s steps(1) infinite;\n",
              "  }\n",
              "\n",
              "  @keyframes spin {\n",
              "    0% {\n",
              "      border-color: transparent;\n",
              "      border-bottom-color: var(--fill-color);\n",
              "      border-left-color: var(--fill-color);\n",
              "    }\n",
              "    20% {\n",
              "      border-color: transparent;\n",
              "      border-left-color: var(--fill-color);\n",
              "      border-top-color: var(--fill-color);\n",
              "    }\n",
              "    30% {\n",
              "      border-color: transparent;\n",
              "      border-left-color: var(--fill-color);\n",
              "      border-top-color: var(--fill-color);\n",
              "      border-right-color: var(--fill-color);\n",
              "    }\n",
              "    40% {\n",
              "      border-color: transparent;\n",
              "      border-right-color: var(--fill-color);\n",
              "      border-top-color: var(--fill-color);\n",
              "    }\n",
              "    60% {\n",
              "      border-color: transparent;\n",
              "      border-right-color: var(--fill-color);\n",
              "    }\n",
              "    80% {\n",
              "      border-color: transparent;\n",
              "      border-right-color: var(--fill-color);\n",
              "      border-bottom-color: var(--fill-color);\n",
              "    }\n",
              "    90% {\n",
              "      border-color: transparent;\n",
              "      border-bottom-color: var(--fill-color);\n",
              "    }\n",
              "  }\n",
              "</style>\n",
              "\n",
              "  <script>\n",
              "    async function quickchart(key) {\n",
              "      const quickchartButtonEl =\n",
              "        document.querySelector('#' + key + ' button');\n",
              "      quickchartButtonEl.disabled = true;  // To prevent multiple clicks.\n",
              "      quickchartButtonEl.classList.add('colab-df-spinner');\n",
              "      try {\n",
              "        const charts = await google.colab.kernel.invokeFunction(\n",
              "            'suggestCharts', [key], {});\n",
              "      } catch (error) {\n",
              "        console.error('Error during call to suggestCharts:', error);\n",
              "      }\n",
              "      quickchartButtonEl.classList.remove('colab-df-spinner');\n",
              "      quickchartButtonEl.classList.add('colab-df-quickchart-complete');\n",
              "    }\n",
              "    (() => {\n",
              "      let quickchartButtonEl =\n",
              "        document.querySelector('#df-fca4e8a6-dcf9-4552-9820-2d5596aad58d button');\n",
              "      quickchartButtonEl.style.display =\n",
              "        google.colab.kernel.accessAllowed ? 'block' : 'none';\n",
              "    })();\n",
              "  </script>\n",
              "</div>\n",
              "    </div>\n",
              "  </div>\n"
            ],
            "application/vnd.google.colaboratory.intrinsic+json": {
              "type": "dataframe",
              "variable_name": "encoded_df",
              "summary": "{\n  \"name\": \"encoded_df\",\n  \"rows\": 15975,\n  \"fields\": [\n    {\n      \"column\": \"category\",\n      \"properties\": {\n        \"dtype\": \"number\",\n        \"std\": 0,\n        \"min\": 0,\n        \"max\": 1,\n        \"num_unique_values\": 2,\n        \"samples\": [\n          1,\n          0\n        ],\n        \"semantic_type\": \"\",\n        \"description\": \"\"\n      }\n    },\n    {\n      \"column\": \"volume\",\n      \"properties\": {\n        \"dtype\": \"number\",\n        \"std\": 109582000,\n        \"min\": 45448000,\n        \"max\": 1460852400,\n        \"num_unique_values\": 1650,\n        \"samples\": [\n          233292800,\n          96427600\n        ],\n        \"semantic_type\": \"\",\n        \"description\": \"\"\n      }\n    },\n    {\n      \"column\": \"year\",\n      \"properties\": {\n        \"dtype\": \"int32\",\n        \"num_unique_values\": 9,\n        \"samples\": [\n          2013,\n          2019\n        ],\n        \"semantic_type\": \"\",\n        \"description\": \"\"\n      }\n    },\n    {\n      \"column\": \"month\",\n      \"properties\": {\n        \"dtype\": \"int32\",\n        \"num_unique_values\": 12,\n        \"samples\": [\n          3,\n          4\n        ],\n        \"semantic_type\": \"\",\n        \"description\": \"\"\n      }\n    },\n    {\n      \"column\": \"day\",\n      \"properties\": {\n        \"dtype\": \"int32\",\n        \"num_unique_values\": 31,\n        \"samples\": [\n          10,\n          18\n        ],\n        \"semantic_type\": \"\",\n        \"description\": \"\"\n      }\n    },\n    {\n      \"column\": \"sentiment\",\n      \"properties\": {\n        \"dtype\": \"number\",\n        \"std\": 0,\n        \"min\": 0,\n        \"max\": 1,\n        \"num_unique_values\": 2,\n        \"samples\": [\n          0,\n          1\n        ],\n        \"semantic_type\": \"\",\n        \"description\": \"\"\n      }\n    },\n    {\n      \"column\": \"label\",\n      \"properties\": {\n        \"dtype\": \"number\",\n        \"std\": 0,\n        \"min\": 0,\n        \"max\": 1,\n        \"num_unique_values\": 2,\n        \"samples\": [\n          1,\n          0\n        ],\n        \"semantic_type\": \"\",\n        \"description\": \"\"\n      }\n    }\n  ]\n}"
            }
          },
          "metadata": {},
          "execution_count": 9
        }
      ],
      "source": [
        "encoded_df.head()"
      ]
    },
    {
      "cell_type": "markdown",
      "source": [
        "Encoded df"
      ],
      "metadata": {
        "id": "xdvmhTbno25u"
      }
    },
    {
      "cell_type": "code",
      "execution_count": null,
      "metadata": {
        "id": "9S3AeUtDJ5Wd"
      },
      "outputs": [],
      "source": [
        "#train test split\n",
        "from sklearn.model_selection import train_test_split\n",
        "encoded_df.dropna(inplace=True)\n",
        "\n",
        "\n",
        "X = encoded_df[['category', 'volume','year', 'month', 'day', 'sentiment']]  # Features\n",
        "y = encoded_df['label']                                # Target variable\n",
        "\n",
        "# Split the data into training and test sets (80% training, 20% test)\n",
        "X_train, X_test, y_train, y_test = train_test_split(X, y, test_size=0.2, random_state=14)"
      ]
    },
    {
      "cell_type": "code",
      "execution_count": null,
      "metadata": {
        "id": "7WhRY4QuJ8xG",
        "colab": {
          "base_uri": "https://localhost:8080/"
        },
        "outputId": "fa27766e-4f9e-4ef7-87d9-11552681387e"
      },
      "outputs": [
        {
          "output_type": "stream",
          "name": "stdout",
          "text": [
            "Accuracy of Logistic Regression = 55.305164319248824%\n"
          ]
        }
      ],
      "source": [
        "from sklearn.impute import SimpleImputer\n",
        "\n",
        "\n",
        "# Initialize and fit Logistic Regression classifier\n",
        "classifier_lr = LogisticRegression(max_iter=10000000)\n",
        "classifier_lr.fit(X_train, y_train)\n",
        "\n",
        "# Predict on test data\n",
        "y_pred = classifier_lr.predict(X_test)\n",
        "\n",
        "# Calculate accuracy of the model\n",
        "accuracy_lr = accuracy_score(y_test, y_pred)\n",
        "print(f\"Accuracy of Logistic Regression = {accuracy_lr*100}%\")"
      ]
    },
    {
      "cell_type": "code",
      "execution_count": null,
      "metadata": {
        "id": "XJr9lQHGJ_iP",
        "colab": {
          "base_uri": "https://localhost:8080/"
        },
        "outputId": "8d0f2a56-2e0c-4482-bb45-3ff4ee562fd2"
      },
      "outputs": [
        {
          "output_type": "stream",
          "name": "stderr",
          "text": [
            "/usr/local/lib/python3.10/dist-packages/sklearn/svm/_base.py:299: ConvergenceWarning: Solver terminated early (max_iter=1000).  Consider pre-processing your data with StandardScaler or MinMaxScaler.\n",
            "  warnings.warn(\n"
          ]
        },
        {
          "output_type": "stream",
          "name": "stdout",
          "text": [
            "Accuracy of Support Vector Classification = 55.89984350547731%\n"
          ]
        }
      ],
      "source": [
        "# SVC\n",
        "\n",
        "classifier_svc = SVC(max_iter=1000)\n",
        "\n",
        "classifier_svc.fit(X_train, y_train)\n",
        "\n",
        "y_pred = classifier_svc.predict(X_test)\n",
        "\n",
        "accuracy_svc = accuracy_score(y_test,y_pred)\n",
        "print(f\"Accuracy of Support Vector Classification = {accuracy_svc*100}%\")\n"
      ]
    },
    {
      "cell_type": "code",
      "execution_count": null,
      "metadata": {
        "id": "CwzIPL2cKBNz",
        "colab": {
          "base_uri": "https://localhost:8080/"
        },
        "outputId": "277663b6-8472-4311-aa38-c10051db881a"
      },
      "outputs": [
        {
          "output_type": "stream",
          "name": "stdout",
          "text": [
            "Accuracy of Feed Forward Network = 44.69483568075117%\n"
          ]
        }
      ],
      "source": [
        "# Feed Forward Network\n",
        "\n",
        "classifier_ffn = MLPClassifier(max_iter=1000)\n",
        "\n",
        "classifier_ffn.fit(X_train,y_train)\n",
        "\n",
        "y_pred = classifier_ffn.predict(X_test)\n",
        "\n",
        "# Calculate the accuracy of model\n",
        "accuracy_ffn =ffn = accuracy_score(y_test, y_pred)\n",
        "print(f\"Accuracy of Feed Forward Network = {accuracy_ffn*100}%\")"
      ]
    },
    {
      "cell_type": "markdown",
      "source": [
        "These three models were pretty bad, so we switched to decision trees."
      ],
      "metadata": {
        "id": "zE0BvF__o5eL"
      }
    },
    {
      "cell_type": "code",
      "execution_count": null,
      "metadata": {
        "id": "PpZvZmfcKDQs",
        "colab": {
          "base_uri": "https://localhost:8080/"
        },
        "outputId": "7b9c1999-c770-4403-f75a-53fc55655801"
      },
      "outputs": [
        {
          "output_type": "stream",
          "name": "stdout",
          "text": [
            "Accuracy of Random Forest Classifier = 97.90297339593114%\n",
            "Classification Report for Random Forest Classifier:\n",
            "              precision    recall  f1-score   support\n",
            "\n",
            "           0       0.98      0.97      0.98      1428\n",
            "           1       0.98      0.99      0.98      1767\n",
            "\n",
            "    accuracy                           0.98      3195\n",
            "   macro avg       0.98      0.98      0.98      3195\n",
            "weighted avg       0.98      0.98      0.98      3195\n",
            "\n"
          ]
        }
      ],
      "source": [
        "# random forest\n",
        "\n",
        "from sklearn.ensemble import RandomForestClassifier\n",
        "from sklearn.metrics import accuracy_score\n",
        "from sklearn.metrics import classification_report\n",
        "\n",
        "\n",
        "# Create a Random Forest Classifier\n",
        "classifier_rf = RandomForestClassifier()\n",
        "\n",
        "# Fit the model on the training data\n",
        "classifier_rf.fit(X_train, y_train)\n",
        "\n",
        "# Make predictions on the test data\n",
        "y_pred = classifier_rf.predict(X_test)\n",
        "\n",
        "# Calculate the accuracy of the model\n",
        "accuracy_rf = accuracy_score(y_test, y_pred)\n",
        "print(f\"Accuracy of Random Forest Classifier = {accuracy_rf*100}%\")\n",
        "# Generate the classification report\n",
        "report_rf = classification_report(y_test, y_pred)\n",
        "print(\"Classification Report for Random Forest Classifier:\")\n",
        "print(report_rf)\n"
      ]
    },
    {
      "cell_type": "code",
      "source": [
        "from sklearn.metrics import confusion_matrix\n",
        "import seaborn as sns\n",
        "import matplotlib.pyplot as plt\n",
        "\n",
        "# Calculate the confusion matrix\n",
        "conf_matrix = confusion_matrix(y_test, y_pred)\n",
        "\n",
        "# Create a heatmap of the confusion matrix\n",
        "plt.figure(figsize=(8, 6))\n",
        "sns.heatmap(conf_matrix, annot=True, fmt=\"d\", cmap=\"Blues\")\n",
        "plt.xlabel('Predicted labels')\n",
        "plt.ylabel('True labels')\n",
        "plt.title('Confusion Matrix')\n",
        "plt.show()\n"
      ],
      "metadata": {
        "colab": {
          "base_uri": "https://localhost:8080/",
          "height": 564
        },
        "id": "CDCHclWJIIKl",
        "outputId": "c74c584b-73ad-476a-c1f3-babf9a62aa10"
      },
      "execution_count": null,
      "outputs": [
        {
          "output_type": "display_data",
          "data": {
            "text/plain": [
              "<Figure size 800x600 with 2 Axes>"
            ],
            "image/png": "[encoded data removed]"
          },
          "metadata": {}
        }
      ]
    },
    {
      "cell_type": "code",
      "execution_count": null,
      "metadata": {
        "id": "_Amb-jFCKFao",
        "colab": {
          "base_uri": "https://localhost:8080/"
        },
        "outputId": "357e2136-d023-46e0-e5e0-802d711f3eab"
      },
      "outputs": [
        {
          "output_type": "stream",
          "name": "stdout",
          "text": [
            "Precision: 0.9730185497470489\n",
            "Recall: 0.9796264855687606\n",
            "F1 Score: 0.9763113367174281\n"
          ]
        }
      ],
      "source": [
        "from sklearn.metrics import precision_score, recall_score, f1_score\n",
        "\n",
        "# Assuming y_true and y_pred are your true and predicted labels\n",
        "precision = precision_score(y_test, y_pred)\n",
        "recall = recall_score(y_test, y_pred)\n",
        "f1 = f1_score(y_test, y_pred)\n",
        "\n",
        "print(f\"Precision: {precision}\")\n",
        "print(f\"Recall: {recall}\")\n",
        "print(f\"F1 Score: {f1}\")"
      ]
    },
    {
      "cell_type": "code",
      "execution_count": null,
      "metadata": {
        "id": "XcgnD8h67Ccw",
        "colab": {
          "base_uri": "https://localhost:8080/"
        },
        "outputId": "61737a91-d0fb-4250-83cd-1cf8691ee98b"
      },
      "outputs": [
        {
          "output_type": "stream",
          "name": "stdout",
          "text": [
            "Accuracy of XGBoost Classifier = 97.37089201877934%\n",
            "Classification Report for Random Forest Classifier:\n",
            "              precision    recall  f1-score   support\n",
            "\n",
            "           0       0.97      0.97      0.97      1428\n",
            "           1       0.97      0.98      0.98      1767\n",
            "\n",
            "    accuracy                           0.97      3195\n",
            "   macro avg       0.97      0.97      0.97      3195\n",
            "weighted avg       0.97      0.97      0.97      3195\n",
            "\n"
          ]
        }
      ],
      "source": [
        "from xgboost import XGBClassifier\n",
        "from sklearn.metrics import accuracy_score\n",
        "\n",
        "# Create an XGBoost Classifier\n",
        "classifier_xgb = XGBClassifier()\n",
        "\n",
        "# Fit the model on the training data\n",
        "classifier_xgb.fit(X_train, y_train)\n",
        "\n",
        "# Make predictions on the test data\n",
        "y_pred = classifier_xgb.predict(X_test)\n",
        "\n",
        "# Calculate the accuracy of the model\n",
        "accuracy_xgb = accuracy_score(y_test, y_pred)\n",
        "print(f\"Accuracy of XGBoost Classifier = {accuracy_xgb*100}%\")\n",
        "# Generate the classification report\n",
        "report_rf = classification_report(y_test, y_pred)\n",
        "print(\"Classification Report for Random Forest Classifier:\")\n",
        "print(report_rf)"
      ]
    },
    {
      "cell_type": "code",
      "source": [
        "conf_matrix = confusion_matrix(y_test, y_pred)\n",
        "\n",
        "# Create a heatmap of the confusion matrix\n",
        "plt.figure(figsize=(8, 6))\n",
        "sns.heatmap(conf_matrix, annot=True, fmt=\"d\", cmap=\"Blues\")\n",
        "plt.xlabel('Predicted labels')\n",
        "plt.ylabel('True labels')\n",
        "plt.title('Confusion Matrix')\n",
        "plt.show()\n"
      ],
      "metadata": {
        "colab": {
          "base_uri": "https://localhost:8080/",
          "height": 564
        },
        "id": "C08jvFEfJe_6",
        "outputId": "4382b983-62c5-4e07-90b0-20678ce41341"
      },
      "execution_count": null,
      "outputs": [
        {
          "output_type": "display_data",
          "data": {
            "text/plain": [
              "<Figure size 800x600 with 2 Axes>"
            ],
            "image/png": "[encoded data removed]"
          },
          "metadata": {}
        }
      ]
    },
    {
      "cell_type": "code",
      "execution_count": null,
      "metadata": {
        "id": "X3mEHOEm7EcC",
        "colab": {
          "base_uri": "https://localhost:8080/"
        },
        "outputId": "ced46dc7-ce99-4174-94cb-0c9cca9835fe"
      },
      "outputs": [
        {
          "output_type": "stream",
          "name": "stdout",
          "text": [
            "Precision: 0.9730185497470489\n",
            "Recall: 0.9796264855687606\n",
            "F1 Score: 0.9763113367174281\n"
          ]
        }
      ],
      "source": [
        "precision = precision_score(y_test, y_pred)\n",
        "recall = recall_score(y_test, y_pred)\n",
        "f1 = f1_score(y_test, y_pred)\n",
        "\n",
        "print(f\"Precision: {precision}\")\n",
        "print(f\"Recall: {recall}\")\n",
        "print(f\"F1 Score: {f1}\")"
      ]
    },
    {
      "cell_type": "markdown",
      "source": [
        "Both random forest and XGBoost were much better at predicting buy and sell signals."
      ],
      "metadata": {
        "id": "o77Qj_5yqUiJ"
      }
    },
    {
      "cell_type": "code",
      "source": [
        "feature_importance = classifier_rf.feature_importances_\n",
        "features = X_train.columns\n",
        "feature_importance_df = pd.DataFrame({'Feature': features, 'Importance': feature_importance})\n",
        "sorted_feature_importance = feature_importance_df.sort_values(by='Importance', ascending=False)\n",
        "plt.figure(figsize=(10, 6))\n",
        "sns.barplot(x='Importance', y='Feature', data=sorted_feature_importance)\n",
        "plt.xlabel('Importance')\n",
        "plt.ylabel('Feature')\n",
        "plt.title('Feature Importance')\n",
        "plt.show()"
      ],
      "metadata": {
        "colab": {
          "base_uri": "https://localhost:8080/",
          "height": 564
        },
        "id": "vyZ_dnX57vRL",
        "outputId": "ca2aa915-2896-48ef-f7a8-7a02eb3c85f0"
      },
      "execution_count": null,
      "outputs": [
        {
          "output_type": "display_data",
          "data": {
            "text/plain": [
              "<Figure size 1000x600 with 1 Axes>"
            ],
            "image/png": "[encoded data removed]"
          },
          "metadata": {}
        }
      ]
    }
  ],
  "metadata": {
    "colab": {
      "provenance": []
    },
    "kernelspec": {
      "display_name": "Python 3",
      "name": "python3"
    },
    "language_info": {
      "name": "python"
    }
  },
  "nbformat": 4,
  "nbformat_minor": 0
}